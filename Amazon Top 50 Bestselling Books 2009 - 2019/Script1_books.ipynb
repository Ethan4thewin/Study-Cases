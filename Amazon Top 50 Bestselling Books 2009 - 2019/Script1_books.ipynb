{
 "cells": [
  {
   "cell_type": "code",
   "execution_count": 21,
   "source": [
    "import pandas as pd\r\n",
    "import numpy as np\r\n",
    "import plotly.express as px\r\n",
    "import os\r\n",
    "from collections import Counter"
   ],
   "outputs": [],
   "metadata": {}
  },
  {
   "cell_type": "code",
   "execution_count": 2,
   "source": [
    "pwd = os.getcwd()"
   ],
   "outputs": [],
   "metadata": {}
  },
  {
   "cell_type": "code",
   "execution_count": 3,
   "source": [
    "dataset = pd.read_csv(pwd + '\\\\bestsellers with categories.csv')\r\n",
    "dataset"
   ],
   "outputs": [
    {
     "output_type": "execute_result",
     "data": {
      "text/plain": [
       "                                                  Name  \\\n",
       "0                        10-Day Green Smoothie Cleanse   \n",
       "1                                    11/22/63: A Novel   \n",
       "2              12 Rules for Life: An Antidote to Chaos   \n",
       "3                               1984 (Signet Classics)   \n",
       "4    5,000 Awesome Facts (About Everything!) (Natio...   \n",
       "..                                                 ...   \n",
       "545       Wrecking Ball (Diary of a Wimpy Kid Book 14)   \n",
       "546  You Are a Badass: How to Stop Doubting Your Gr...   \n",
       "547  You Are a Badass: How to Stop Doubting Your Gr...   \n",
       "548  You Are a Badass: How to Stop Doubting Your Gr...   \n",
       "549  You Are a Badass: How to Stop Doubting Your Gr...   \n",
       "\n",
       "                       Author  User Rating  Reviews  Price  Year        Genre  \n",
       "0                    JJ Smith          4.7    17350      8  2016  Non Fiction  \n",
       "1                Stephen King          4.6     2052     22  2011      Fiction  \n",
       "2          Jordan B. Peterson          4.7    18979     15  2018  Non Fiction  \n",
       "3               George Orwell          4.7    21424      6  2017      Fiction  \n",
       "4    National Geographic Kids          4.8     7665     12  2019  Non Fiction  \n",
       "..                        ...          ...      ...    ...   ...          ...  \n",
       "545               Jeff Kinney          4.9     9413      8  2019      Fiction  \n",
       "546               Jen Sincero          4.7    14331      8  2016  Non Fiction  \n",
       "547               Jen Sincero          4.7    14331      8  2017  Non Fiction  \n",
       "548               Jen Sincero          4.7    14331      8  2018  Non Fiction  \n",
       "549               Jen Sincero          4.7    14331      8  2019  Non Fiction  \n",
       "\n",
       "[550 rows x 7 columns]"
      ],
      "text/html": [
       "<div>\n",
       "<style scoped>\n",
       "    .dataframe tbody tr th:only-of-type {\n",
       "        vertical-align: middle;\n",
       "    }\n",
       "\n",
       "    .dataframe tbody tr th {\n",
       "        vertical-align: top;\n",
       "    }\n",
       "\n",
       "    .dataframe thead th {\n",
       "        text-align: right;\n",
       "    }\n",
       "</style>\n",
       "<table border=\"1\" class=\"dataframe\">\n",
       "  <thead>\n",
       "    <tr style=\"text-align: right;\">\n",
       "      <th></th>\n",
       "      <th>Name</th>\n",
       "      <th>Author</th>\n",
       "      <th>User Rating</th>\n",
       "      <th>Reviews</th>\n",
       "      <th>Price</th>\n",
       "      <th>Year</th>\n",
       "      <th>Genre</th>\n",
       "    </tr>\n",
       "  </thead>\n",
       "  <tbody>\n",
       "    <tr>\n",
       "      <th>0</th>\n",
       "      <td>10-Day Green Smoothie Cleanse</td>\n",
       "      <td>JJ Smith</td>\n",
       "      <td>4.7</td>\n",
       "      <td>17350</td>\n",
       "      <td>8</td>\n",
       "      <td>2016</td>\n",
       "      <td>Non Fiction</td>\n",
       "    </tr>\n",
       "    <tr>\n",
       "      <th>1</th>\n",
       "      <td>11/22/63: A Novel</td>\n",
       "      <td>Stephen King</td>\n",
       "      <td>4.6</td>\n",
       "      <td>2052</td>\n",
       "      <td>22</td>\n",
       "      <td>2011</td>\n",
       "      <td>Fiction</td>\n",
       "    </tr>\n",
       "    <tr>\n",
       "      <th>2</th>\n",
       "      <td>12 Rules for Life: An Antidote to Chaos</td>\n",
       "      <td>Jordan B. Peterson</td>\n",
       "      <td>4.7</td>\n",
       "      <td>18979</td>\n",
       "      <td>15</td>\n",
       "      <td>2018</td>\n",
       "      <td>Non Fiction</td>\n",
       "    </tr>\n",
       "    <tr>\n",
       "      <th>3</th>\n",
       "      <td>1984 (Signet Classics)</td>\n",
       "      <td>George Orwell</td>\n",
       "      <td>4.7</td>\n",
       "      <td>21424</td>\n",
       "      <td>6</td>\n",
       "      <td>2017</td>\n",
       "      <td>Fiction</td>\n",
       "    </tr>\n",
       "    <tr>\n",
       "      <th>4</th>\n",
       "      <td>5,000 Awesome Facts (About Everything!) (Natio...</td>\n",
       "      <td>National Geographic Kids</td>\n",
       "      <td>4.8</td>\n",
       "      <td>7665</td>\n",
       "      <td>12</td>\n",
       "      <td>2019</td>\n",
       "      <td>Non Fiction</td>\n",
       "    </tr>\n",
       "    <tr>\n",
       "      <th>...</th>\n",
       "      <td>...</td>\n",
       "      <td>...</td>\n",
       "      <td>...</td>\n",
       "      <td>...</td>\n",
       "      <td>...</td>\n",
       "      <td>...</td>\n",
       "      <td>...</td>\n",
       "    </tr>\n",
       "    <tr>\n",
       "      <th>545</th>\n",
       "      <td>Wrecking Ball (Diary of a Wimpy Kid Book 14)</td>\n",
       "      <td>Jeff Kinney</td>\n",
       "      <td>4.9</td>\n",
       "      <td>9413</td>\n",
       "      <td>8</td>\n",
       "      <td>2019</td>\n",
       "      <td>Fiction</td>\n",
       "    </tr>\n",
       "    <tr>\n",
       "      <th>546</th>\n",
       "      <td>You Are a Badass: How to Stop Doubting Your Gr...</td>\n",
       "      <td>Jen Sincero</td>\n",
       "      <td>4.7</td>\n",
       "      <td>14331</td>\n",
       "      <td>8</td>\n",
       "      <td>2016</td>\n",
       "      <td>Non Fiction</td>\n",
       "    </tr>\n",
       "    <tr>\n",
       "      <th>547</th>\n",
       "      <td>You Are a Badass: How to Stop Doubting Your Gr...</td>\n",
       "      <td>Jen Sincero</td>\n",
       "      <td>4.7</td>\n",
       "      <td>14331</td>\n",
       "      <td>8</td>\n",
       "      <td>2017</td>\n",
       "      <td>Non Fiction</td>\n",
       "    </tr>\n",
       "    <tr>\n",
       "      <th>548</th>\n",
       "      <td>You Are a Badass: How to Stop Doubting Your Gr...</td>\n",
       "      <td>Jen Sincero</td>\n",
       "      <td>4.7</td>\n",
       "      <td>14331</td>\n",
       "      <td>8</td>\n",
       "      <td>2018</td>\n",
       "      <td>Non Fiction</td>\n",
       "    </tr>\n",
       "    <tr>\n",
       "      <th>549</th>\n",
       "      <td>You Are a Badass: How to Stop Doubting Your Gr...</td>\n",
       "      <td>Jen Sincero</td>\n",
       "      <td>4.7</td>\n",
       "      <td>14331</td>\n",
       "      <td>8</td>\n",
       "      <td>2019</td>\n",
       "      <td>Non Fiction</td>\n",
       "    </tr>\n",
       "  </tbody>\n",
       "</table>\n",
       "<p>550 rows × 7 columns</p>\n",
       "</div>"
      ]
     },
     "metadata": {},
     "execution_count": 3
    }
   ],
   "metadata": {}
  },
  {
   "cell_type": "code",
   "execution_count": 20,
   "source": [
    "custom1 = dataset.groupby('Year').agg({'User Rating':'mean', 'Reviews':'sum', 'Price':['sum','mean']})\r\n",
    "custom1.reset_index()"
   ],
   "outputs": [
    {
     "output_type": "execute_result",
     "data": {
      "text/plain": [
       "    Year User Rating Reviews Price       \n",
       "                mean     sum   sum   mean\n",
       "0   2009       4.584  235506   770  15.40\n",
       "1   2010       4.558  273981   674  13.48\n",
       "2   2011       4.558  405041   755  15.10\n",
       "3   2012       4.532  654546   765  15.30\n",
       "4   2013       4.554  654907   730  14.60\n",
       "5   2014       4.622  792997   732  14.64\n",
       "6   2015       4.648  711669   521  10.42\n",
       "7   2016       4.678  709800   659  13.18\n",
       "8   2017       4.660  644420   569  11.38\n",
       "9   2018       4.668  696521   526  10.52\n",
       "10  2019       4.740  794917   504  10.08"
      ],
      "text/html": [
       "<div>\n",
       "<style scoped>\n",
       "    .dataframe tbody tr th:only-of-type {\n",
       "        vertical-align: middle;\n",
       "    }\n",
       "\n",
       "    .dataframe tbody tr th {\n",
       "        vertical-align: top;\n",
       "    }\n",
       "\n",
       "    .dataframe thead tr th {\n",
       "        text-align: left;\n",
       "    }\n",
       "</style>\n",
       "<table border=\"1\" class=\"dataframe\">\n",
       "  <thead>\n",
       "    <tr>\n",
       "      <th></th>\n",
       "      <th>Year</th>\n",
       "      <th>User Rating</th>\n",
       "      <th>Reviews</th>\n",
       "      <th colspan=\"2\" halign=\"left\">Price</th>\n",
       "    </tr>\n",
       "    <tr>\n",
       "      <th></th>\n",
       "      <th></th>\n",
       "      <th>mean</th>\n",
       "      <th>sum</th>\n",
       "      <th>sum</th>\n",
       "      <th>mean</th>\n",
       "    </tr>\n",
       "  </thead>\n",
       "  <tbody>\n",
       "    <tr>\n",
       "      <th>0</th>\n",
       "      <td>2009</td>\n",
       "      <td>4.584</td>\n",
       "      <td>235506</td>\n",
       "      <td>770</td>\n",
       "      <td>15.40</td>\n",
       "    </tr>\n",
       "    <tr>\n",
       "      <th>1</th>\n",
       "      <td>2010</td>\n",
       "      <td>4.558</td>\n",
       "      <td>273981</td>\n",
       "      <td>674</td>\n",
       "      <td>13.48</td>\n",
       "    </tr>\n",
       "    <tr>\n",
       "      <th>2</th>\n",
       "      <td>2011</td>\n",
       "      <td>4.558</td>\n",
       "      <td>405041</td>\n",
       "      <td>755</td>\n",
       "      <td>15.10</td>\n",
       "    </tr>\n",
       "    <tr>\n",
       "      <th>3</th>\n",
       "      <td>2012</td>\n",
       "      <td>4.532</td>\n",
       "      <td>654546</td>\n",
       "      <td>765</td>\n",
       "      <td>15.30</td>\n",
       "    </tr>\n",
       "    <tr>\n",
       "      <th>4</th>\n",
       "      <td>2013</td>\n",
       "      <td>4.554</td>\n",
       "      <td>654907</td>\n",
       "      <td>730</td>\n",
       "      <td>14.60</td>\n",
       "    </tr>\n",
       "    <tr>\n",
       "      <th>5</th>\n",
       "      <td>2014</td>\n",
       "      <td>4.622</td>\n",
       "      <td>792997</td>\n",
       "      <td>732</td>\n",
       "      <td>14.64</td>\n",
       "    </tr>\n",
       "    <tr>\n",
       "      <th>6</th>\n",
       "      <td>2015</td>\n",
       "      <td>4.648</td>\n",
       "      <td>711669</td>\n",
       "      <td>521</td>\n",
       "      <td>10.42</td>\n",
       "    </tr>\n",
       "    <tr>\n",
       "      <th>7</th>\n",
       "      <td>2016</td>\n",
       "      <td>4.678</td>\n",
       "      <td>709800</td>\n",
       "      <td>659</td>\n",
       "      <td>13.18</td>\n",
       "    </tr>\n",
       "    <tr>\n",
       "      <th>8</th>\n",
       "      <td>2017</td>\n",
       "      <td>4.660</td>\n",
       "      <td>644420</td>\n",
       "      <td>569</td>\n",
       "      <td>11.38</td>\n",
       "    </tr>\n",
       "    <tr>\n",
       "      <th>9</th>\n",
       "      <td>2018</td>\n",
       "      <td>4.668</td>\n",
       "      <td>696521</td>\n",
       "      <td>526</td>\n",
       "      <td>10.52</td>\n",
       "    </tr>\n",
       "    <tr>\n",
       "      <th>10</th>\n",
       "      <td>2019</td>\n",
       "      <td>4.740</td>\n",
       "      <td>794917</td>\n",
       "      <td>504</td>\n",
       "      <td>10.08</td>\n",
       "    </tr>\n",
       "  </tbody>\n",
       "</table>\n",
       "</div>"
      ]
     },
     "metadata": {},
     "execution_count": 20
    }
   ],
   "metadata": {}
  },
  {
   "cell_type": "code",
   "execution_count": 43,
   "source": [
    "custom2 = dataset.groupby('Author')['Name'].nunique().reset_index()\r\n",
    "custom2.sort_values('Name',ascending=False,inplace=True)\r\n",
    "custom2"
   ],
   "outputs": [
    {
     "output_type": "execute_result",
     "data": {
      "text/plain": [
       "              Author  Name\n",
       "120      Jeff Kinney    12\n",
       "197     Rick Riordan    10\n",
       "221  Stephenie Meyer     7\n",
       "113     J.K. Rowling     6\n",
       "27     Bill O'Reilly     6\n",
       "..               ...   ...\n",
       "89   Fredrik Backman     1\n",
       "90            Gallup     1\n",
       "91       Garth Stein     1\n",
       "93      Gayle Forman     1\n",
       "124      Jim Collins     1\n",
       "\n",
       "[248 rows x 2 columns]"
      ],
      "text/html": [
       "<div>\n",
       "<style scoped>\n",
       "    .dataframe tbody tr th:only-of-type {\n",
       "        vertical-align: middle;\n",
       "    }\n",
       "\n",
       "    .dataframe tbody tr th {\n",
       "        vertical-align: top;\n",
       "    }\n",
       "\n",
       "    .dataframe thead th {\n",
       "        text-align: right;\n",
       "    }\n",
       "</style>\n",
       "<table border=\"1\" class=\"dataframe\">\n",
       "  <thead>\n",
       "    <tr style=\"text-align: right;\">\n",
       "      <th></th>\n",
       "      <th>Author</th>\n",
       "      <th>Name</th>\n",
       "    </tr>\n",
       "  </thead>\n",
       "  <tbody>\n",
       "    <tr>\n",
       "      <th>120</th>\n",
       "      <td>Jeff Kinney</td>\n",
       "      <td>12</td>\n",
       "    </tr>\n",
       "    <tr>\n",
       "      <th>197</th>\n",
       "      <td>Rick Riordan</td>\n",
       "      <td>10</td>\n",
       "    </tr>\n",
       "    <tr>\n",
       "      <th>221</th>\n",
       "      <td>Stephenie Meyer</td>\n",
       "      <td>7</td>\n",
       "    </tr>\n",
       "    <tr>\n",
       "      <th>113</th>\n",
       "      <td>J.K. Rowling</td>\n",
       "      <td>6</td>\n",
       "    </tr>\n",
       "    <tr>\n",
       "      <th>27</th>\n",
       "      <td>Bill O'Reilly</td>\n",
       "      <td>6</td>\n",
       "    </tr>\n",
       "    <tr>\n",
       "      <th>...</th>\n",
       "      <td>...</td>\n",
       "      <td>...</td>\n",
       "    </tr>\n",
       "    <tr>\n",
       "      <th>89</th>\n",
       "      <td>Fredrik Backman</td>\n",
       "      <td>1</td>\n",
       "    </tr>\n",
       "    <tr>\n",
       "      <th>90</th>\n",
       "      <td>Gallup</td>\n",
       "      <td>1</td>\n",
       "    </tr>\n",
       "    <tr>\n",
       "      <th>91</th>\n",
       "      <td>Garth Stein</td>\n",
       "      <td>1</td>\n",
       "    </tr>\n",
       "    <tr>\n",
       "      <th>93</th>\n",
       "      <td>Gayle Forman</td>\n",
       "      <td>1</td>\n",
       "    </tr>\n",
       "    <tr>\n",
       "      <th>124</th>\n",
       "      <td>Jim Collins</td>\n",
       "      <td>1</td>\n",
       "    </tr>\n",
       "  </tbody>\n",
       "</table>\n",
       "<p>248 rows × 2 columns</p>\n",
       "</div>"
      ]
     },
     "metadata": {},
     "execution_count": 43
    }
   ],
   "metadata": {}
  },
  {
   "cell_type": "code",
   "execution_count": 86,
   "source": [
    "fig = px.scatter(\r\n",
    "    dataset, x='Price', y='User Rating',facet_row='Year', color='Genre', hover_name='Name', hover_data=['Author'],\r\n",
    "    category_orders={'Year':[2009,2010,2011,2012,2013,2014,2015,2016,2017,2018,2019]},\r\n",
    "    title='Price vs. User Rating'\r\n",
    ")\r\n",
    "\r\n",
    "fig.update_layout(\r\n",
    "    height=2000,\r\n",
    "    margin=dict(l=20, r=20, t=40, b=20),\r\n",
    "    paper_bgcolor=\"LightSteelBlue\",\r\n",
    ")\r\n",
    "\r\n",
    "fig.show()"
   ],
   "outputs": [
    {
     "output_type": "display_data",
     "data": {
      "application/vnd.plotly.v1+json": {
       "config": {
        "plotlyServerURL": "https://plot.ly"
       },
       "data": [
        {
         "customdata": [
          [
           "Steve Harvey"
          ],
          [
           "Glenn Beck"
          ],
          [
           "Francis Chan"
          ],
          [
           "Zhi Gang Sha"
          ],
          [
           "David Zinczenko"
          ],
          [
           "David Zinczenko"
          ],
          [
           "Glenn Beck"
          ],
          [
           "Sarah Palin"
          ],
          [
           "Jim Collins"
          ],
          [
           "Mitch Albom"
          ],
          [
           "Mark R. Levin"
          ],
          [
           "Julia Child"
          ],
          [
           "Malcolm Gladwell"
          ],
          [
           "American Psychological Association"
          ],
          [
           "Gallup"
          ],
          [
           "Steven D. Levitt"
          ],
          [
           "W. Cleon Skousen"
          ],
          [
           "Stephen R. Covey"
          ],
          [
           "Bill Simmons"
          ],
          [
           "Patrick Lencioni"
          ],
          [
           "Gary Chapman"
          ],
          [
           "Randy Pausch"
          ],
          [
           "Stephen Kendrick"
          ],
          [
           "Malcolm Gladwell"
          ],
          [
           "Greg Mortenson"
          ],
          [
           "Edward M. Kennedy"
          ]
         ],
         "hovertemplate": "<b>%{hovertext}</b><br><br>Genre=Non Fiction<br>Year=2009<br>Price=%{x}<br>User Rating=%{y}<br>Author=%{customdata[0]}<extra></extra>",
         "hovertext": [
          "Act Like a Lady, Think Like a Man: What Men Really Think About Love, Relationships, Intimacy, and Commitment",
          "Arguing with Idiots: How to Stop Small Minds and Big Government",
          "Crazy Love: Overwhelmed by a Relentless God",
          "Divine Soul Mind Body Healing and Transmission System: The Divine Way to Heal You, Humanity, Mother Earth, and All…",
          "Eat This Not That! Supermarket Survival Guide: The No-Diet Weight Loss Solution",
          "Eat This, Not That! Thousands of Simple Food Swaps that Can Save You 10, 20, 30 Pounds--or More!",
          "Glenn Beck's Common Sense: The Case Against an Out-of-Control Government, Inspired by Thomas Paine",
          "Going Rogue: An American Life",
          "Good to Great: Why Some Companies Make the Leap and Others Don't",
          "Have a Little Faith: A True Story",
          "Liberty and Tyranny: A Conservative Manifesto",
          "Mastering the Art of French Cooking, Vol. 2",
          "Outliers: The Story of Success",
          "Publication Manual of the American Psychological Association, 6th Edition",
          "StrengthsFinder 2.0",
          "Super Freakonomics: Global Cooling, Patriotic Prostitutes, and Why Suicide Bombers Should Buy Life Insurance",
          "The 5000 Year Leap",
          "The 7 Habits of Highly Effective People: Powerful Lessons in Personal Change",
          "The Book of Basketball: The NBA According to The Sports Guy",
          "The Five Dysfunctions of a Team: A Leadership Fable",
          "The Five Love Languages: How to Express Heartfelt Commitment to Your Mate",
          "The Last Lecture",
          "The Love Dare",
          "The Tipping Point: How Little Things Can Make a Big Difference",
          "Three Cups of Tea: One Man's Mission to Promote Peace - One School at a Time",
          "True Compass: A Memoir"
         ],
         "legendgroup": "Non Fiction",
         "marker": {
          "color": "#636efa",
          "symbol": "circle"
         },
         "mode": "markers",
         "name": "Non Fiction",
         "orientation": "v",
         "showlegend": true,
         "type": "scatter",
         "x": [
          17,
          5,
          14,
          6,
          1,
          14,
          11,
          6,
          14,
          4,
          15,
          27,
          20,
          46,
          17,
          18,
          12,
          24,
          53,
          6,
          9,
          9,
          13,
          9,
          11,
          15
         ],
         "xaxis": "x11",
         "y": [
          4.6,
          4.6,
          4.7,
          4.6,
          4.5,
          4.3,
          4.6,
          4.6,
          4.5,
          4.8,
          4.8,
          4.8,
          4.6,
          4.5,
          4,
          4.5,
          4.8,
          4.6,
          4.7,
          4.6,
          4.6,
          4.7,
          4.8,
          4.4,
          4.3,
          4.5
         ],
         "yaxis": "y11"
        },
        {
         "customdata": [
          [
           "Larry Schweikart"
          ],
          [
           "Mark Twain"
          ],
          [
           "Ina Garten"
          ],
          [
           "Glenn Beck"
          ],
          [
           "Francis Chan"
          ],
          [
           "George W. Bush"
          ],
          [
           "Tony Hsieh"
          ],
          [
           "Daniel H. Pink"
          ],
          [
           "Michael Pollan"
          ],
          [
           "John Heilemann"
          ],
          [
           "Peter A. Lillback"
          ],
          [
           "Jim Collins"
          ],
          [
           "Keith Richards"
          ],
          [
           "Malcolm Gladwell"
          ],
          [
           "American Psychological Association"
          ],
          [
           "David Platt"
          ],
          [
           "Justin Halpern"
          ],
          [
           "Gallup"
          ],
          [
           "Chip Heath"
          ],
          [
           "Doug Lemov"
          ],
          [
           "Gary Chapman"
          ],
          [
           "Michael Lewis"
          ],
          [
           "Jon Stewart"
          ],
          [
           "Patrick Lencioni"
          ],
          [
           "Rebecca Skloot"
          ],
          [
           "The College Board"
          ],
          [
           "F. A. Hayek"
          ],
          [
           "Greg Mortenson"
          ],
          [
           "Laura Hillenbrand"
          ],
          [
           "Geneen Roth"
          ]
         ],
         "hovertemplate": "<b>%{hovertext}</b><br><br>Genre=Non Fiction<br>Year=2010<br>Price=%{x}<br>User Rating=%{y}<br>Author=%{customdata[0]}<extra></extra>",
         "hovertext": [
          "A Patriot's History of the United States: From Columbus's Great Discovery to the War on Terror",
          "Autobiography of Mark Twain, Vol. 1",
          "Barefoot Contessa, How Easy Is That?: Fabulous Recipes & Easy Tips",
          "Broke: The Plan to Restore Our Trust, Truth and Treasure",
          "Crazy Love: Overwhelmed by a Relentless God",
          "Decision Points",
          "Delivering Happiness: A Path to Profits, Passion, and Purpose",
          "Drive: The Surprising Truth About What Motivates Us",
          "Food Rules: An Eater's Manual",
          "Game Change: Obama and the Clintons, McCain and Palin, and the Race of a Lifetime",
          "George Washington's Sacred Fire",
          "Good to Great: Why Some Companies Make the Leap and Others Don't",
          "Life",
          "Outliers: The Story of Success",
          "Publication Manual of the American Psychological Association, 6th Edition",
          "Radical: Taking Back Your Faith from the American Dream",
          "Sh*t My Dad Says",
          "StrengthsFinder 2.0",
          "Switch: How to Change Things When Change Is Hard",
          "Teach Like a Champion: 49 Techniques that Put Students on the Path to College",
          "The 5 Love Languages: The Secret to Love That Lasts",
          "The Big Short: Inside the Doomsday Machine",
          "The Daily Show with Jon Stewart Presents Earth (The Book): A Visitor's Guide to the Human Race",
          "The Five Dysfunctions of a Team: A Leadership Fable",
          "The Immortal Life of Henrietta Lacks",
          "The Official SAT Study Guide",
          "The Road to Serfdom: Text and Documents--The Definitive Edition (The Collected Works of F. A. Hayek, Volume 2)",
          "Three Cups of Tea: One Man's Mission to Promote Peace - One School at a Time",
          "Unbroken: A World War II Story of Survival, Resilience, and Redemption",
          "Women Food and God: An Unexpected Path to Almost Everything"
         ],
         "legendgroup": "Non Fiction",
         "marker": {
          "color": "#636efa",
          "symbol": "circle"
         },
         "mode": "markers",
         "name": "Non Fiction",
         "orientation": "v",
         "showlegend": false,
         "type": "scatter",
         "x": [
          2,
          14,
          21,
          8,
          14,
          17,
          15,
          16,
          9,
          9,
          20,
          14,
          18,
          20,
          46,
          9,
          11,
          17,
          13,
          20,
          28,
          17,
          11,
          6,
          13,
          40,
          14,
          11,
          16,
          11
         ],
         "xaxis": "x10",
         "y": [
          4.6,
          4.2,
          4.7,
          4.5,
          4.7,
          4.6,
          4.6,
          4.5,
          4.4,
          4.4,
          4.5,
          4.5,
          4.5,
          4.6,
          4.5,
          4.7,
          4.7,
          4,
          4.6,
          4.4,
          4.7,
          4.7,
          4.4,
          4.6,
          4.7,
          4.4,
          4.6,
          4.3,
          4.8,
          4.2
         ],
         "yaxis": "y10"
        },
        {
         "customdata": [
          [
           "Jaycee Dugard"
          ],
          [
           "Francis Chan"
          ],
          [
           "Joel Fuhrman MD"
          ],
          [
           "Jim Collins"
          ],
          [
           "Todd Burpo"
          ],
          [
           "Eric Larson"
          ],
          [
           "Sarah Young"
          ],
          [
           "Bill O'Reilly"
          ],
          [
           "Rob Bell"
          ],
          [
           "Ann Voskamp"
          ],
          [
           "American Psychological Association"
          ],
          [
           "David Platt"
          ],
          [
           "Walter Isaacson"
          ],
          [
           "Gallup"
          ],
          [
           "Doug Lemov"
          ],
          [
           "Mike Moreno"
          ],
          [
           "Timothy Ferriss"
          ],
          [
           "Gary Chapman"
          ],
          [
           "Stephen R. Covey"
          ],
          [
           "Thomas Campbell"
          ],
          [
           "Pierre Dukan"
          ],
          [
           "Patrick Lencioni"
          ],
          [
           "Rebecca Skloot"
          ],
          [
           "Daniel Lipkowitz"
          ],
          [
           "The College Board"
          ],
          [
           "Daniel Kahneman"
          ],
          [
           "Tina Fey"
          ],
          [
           "Laura Hillenbrand"
          ],
          [
           "Heidi Murkoff"
          ]
         ],
         "hovertemplate": "<b>%{hovertext}</b><br><br>Genre=Non Fiction<br>Year=2011<br>Price=%{x}<br>User Rating=%{y}<br>Author=%{customdata[0]}<extra></extra>",
         "hovertext": [
          "A Stolen Life: A Memoir",
          "Crazy Love: Overwhelmed by a Relentless God",
          "Eat to Live: The Amazing Nutrient-Rich Program for Fast and Sustained Weight Loss, Revised Edition",
          "Good to Great: Why Some Companies Make the Leap and Others Don't",
          "Heaven is for Real: A Little Boy's Astounding Story of His Trip to Heaven and Back",
          "In the Garden of Beasts: Love, Terror, and an American Family in Hitler's Berlin",
          "Jesus Calling: Enjoying Peace in His Presence (with Scripture References)",
          "Killing Lincoln: The Shocking Assassination that Changed America Forever (Bill O'Reilly's Killing Series)",
          "Love Wins: A Book About Heaven, Hell, and the Fate of Every Person Who Ever Lived",
          "One Thousand Gifts: A Dare to Live Fully Right Where You Are",
          "Publication Manual of the American Psychological Association, 6th Edition",
          "Radical: Taking Back Your Faith from the American Dream",
          "Steve Jobs",
          "StrengthsFinder 2.0",
          "Teach Like a Champion: 49 Techniques that Put Students on the Path to College",
          "The 17 Day Diet: A Doctor's Plan Designed for Rapid Results",
          "The 4 Hour Body: An Uncommon Guide to Rapid Fat Loss, Incredible Sex and Becoming Superhuman",
          "The 5 Love Languages: The Secret to Love That Lasts",
          "The 7 Habits of Highly Effective People: Powerful Lessons in Personal Change",
          "The China Study: The Most Comprehensive Study of Nutrition Ever Conducted And the Startling Implications for Diet…",
          "The Dukan Diet: 2 Steps to Lose the Weight, 2 Steps to Keep It Off Forever",
          "The Five Dysfunctions of a Team: A Leadership Fable",
          "The Immortal Life of Henrietta Lacks",
          "The Lego Ideas Book: Unlock Your Imagination",
          "The Official SAT Study Guide",
          "Thinking, Fast and Slow",
          "Tina Fey: Bossypants",
          "Unbroken: A World War II Story of Survival, Resilience, and Redemption",
          "What to Expect When You're Expecting"
         ],
         "legendgroup": "Non Fiction",
         "marker": {
          "color": "#636efa",
          "symbol": "circle"
         },
         "mode": "markers",
         "name": "Non Fiction",
         "orientation": "v",
         "showlegend": false,
         "type": "scatter",
         "x": [
          32,
          14,
          9,
          14,
          10,
          21,
          8,
          10,
          13,
          13,
          46,
          9,
          20,
          17,
          20,
          22,
          21,
          28,
          24,
          21,
          15,
          6,
          9,
          13,
          40,
          19,
          12,
          16,
          9
         ],
         "xaxis": "x9",
         "y": [
          4.6,
          4.7,
          4.5,
          4.5,
          4.7,
          4.4,
          4.9,
          4.7,
          4.2,
          4.6,
          4.5,
          4.7,
          4.6,
          4,
          4.4,
          4.3,
          4.3,
          4.7,
          4.6,
          4.7,
          4.1,
          4.6,
          4.7,
          4.4,
          4.4,
          4.6,
          4.3,
          4.8,
          4.4
         ],
         "yaxis": "y9"
        },
        {
         "customdata": [
          [
           "Ina Garten"
          ],
          [
           "Joel Fuhrman MD"
          ],
          [
           "Jim Collins"
          ],
          [
           "Todd Burpo"
          ],
          [
           "Sarah Young"
          ],
          [
           "Bill O'Reilly"
          ],
          [
           "Bill O'Reilly"
          ],
          [
           "Mark Owen"
          ],
          [
           "Ann Voskamp"
          ],
          [
           "Eben Alexander"
          ],
          [
           "American Psychological Association"
          ],
          [
           "Susan Cain"
          ],
          [
           "Walter Isaacson"
          ],
          [
           "Gallup"
          ],
          [
           "Gary Chapman"
          ],
          [
           "Stephen R. Covey"
          ],
          [
           "Edward Klein"
          ],
          [
           "Mark Hyman M.D."
          ],
          [
           "Patrick Lencioni"
          ],
          [
           "Rebecca Skloot"
          ],
          [
           "Daniel Lipkowitz"
          ],
          [
           "The College Board"
          ],
          [
           "Ree Drummond"
          ],
          [
           "Charles Duhigg"
          ],
          [
           "Daniel Kahneman"
          ],
          [
           "Jon Meacham"
          ],
          [
           "Laura Hillenbrand"
          ],
          [
           "William Davis"
          ],
          [
           "Cheryl Strayed"
          ]
         ],
         "hovertemplate": "<b>%{hovertext}</b><br><br>Genre=Non Fiction<br>Year=2012<br>Price=%{x}<br>User Rating=%{y}<br>Author=%{customdata[0]}<extra></extra>",
         "hovertext": [
          "Barefoot Contessa Foolproof: Recipes You Can Trust: A Cookbook",
          "Eat to Live: The Amazing Nutrient-Rich Program for Fast and Sustained Weight Loss, Revised Edition",
          "Good to Great: Why Some Companies Make the Leap and Others Don't",
          "Heaven is for Real: A Little Boy's Astounding Story of His Trip to Heaven and Back",
          "Jesus Calling: Enjoying Peace in His Presence (with Scripture References)",
          "Killing Kennedy: The End of Camelot",
          "Killing Lincoln: The Shocking Assassination that Changed America Forever (Bill O'Reilly's Killing Series)",
          "No Easy Day: The Autobiography of a Navy Seal: The Firsthand Account of the Mission That Killed Osama Bin Laden",
          "One Thousand Gifts: A Dare to Live Fully Right Where You Are",
          "Proof of Heaven: A Neurosurgeon's Journey into the Afterlife",
          "Publication Manual of the American Psychological Association, 6th Edition",
          "Quiet: The Power of Introverts in a World That Can't Stop Talking",
          "Steve Jobs",
          "StrengthsFinder 2.0",
          "The 5 Love Languages: The Secret to Love That Lasts",
          "The 7 Habits of Highly Effective People: Powerful Lessons in Personal Change",
          "The Amateur",
          "The Blood Sugar Solution: The UltraHealthy Program for Losing Weight, Preventing Disease, and Feeling Great Now!",
          "The Five Dysfunctions of a Team: A Leadership Fable",
          "The Immortal Life of Henrietta Lacks",
          "The Lego Ideas Book: Unlock Your Imagination",
          "The Official SAT Study Guide",
          "The Pioneer Woman Cooks: Food from My Frontier",
          "The Power of Habit: Why We Do What We Do in Life and Business",
          "Thinking, Fast and Slow",
          "Thomas Jefferson: The Art of Power",
          "Unbroken: A World War II Story of Survival, Resilience, and Redemption",
          "Wheat Belly: Lose the Wheat, Lose the Weight, and Find Your Path Back to Health",
          "Wild: From Lost to Found on the Pacific Crest Trail"
         ],
         "legendgroup": "Non Fiction",
         "marker": {
          "color": "#636efa",
          "symbol": "circle"
         },
         "mode": "markers",
         "name": "Non Fiction",
         "orientation": "v",
         "showlegend": false,
         "type": "scatter",
         "x": [
          24,
          9,
          14,
          10,
          8,
          25,
          10,
          14,
          13,
          10,
          46,
          20,
          20,
          17,
          28,
          24,
          9,
          14,
          6,
          9,
          13,
          40,
          21,
          21,
          19,
          23,
          16,
          6,
          18
         ],
         "xaxis": "x8",
         "y": [
          4.8,
          4.5,
          4.5,
          4.7,
          4.9,
          4.6,
          4.7,
          4.6,
          4.6,
          4.3,
          4.5,
          4.6,
          4.6,
          4,
          4.7,
          4.6,
          4.6,
          4.2,
          4.6,
          4.7,
          4.4,
          4.4,
          4.8,
          4.6,
          4.6,
          4.5,
          4.8,
          4.4,
          4.4
         ],
         "yaxis": "y8"
        },
        {
         "customdata": [
          [
           "Brené Brown"
          ],
          [
           "Malcolm Gladwell"
          ],
          [
           "American Psychiatric Association"
          ],
          [
           "Brian Kilmeade"
          ],
          [
           "Phil Robertson"
          ],
          [
           "Brandon Stanton"
          ],
          [
           "Allie Brosh"
          ],
          [
           "Sarah Young"
          ],
          [
           "Bill O'Reilly"
          ],
          [
           "Rob Elliott"
          ],
          [
           "Rob Elliott"
          ],
          [
           "Sheryl Sandberg"
          ],
          [
           "Eben Alexander"
          ],
          [
           "American Psychological Association"
          ],
          [
           "Susan Cain"
          ],
          [
           "Ian K. Smith M.D."
          ],
          [
           "Zhi Gang Sha"
          ],
          [
           "Gallup"
          ],
          [
           "Gary Chapman"
          ],
          [
           "Stephen R. Covey"
          ],
          [
           "Patrick Lencioni"
          ],
          [
           "Don Miguel Ruiz"
          ],
          [
           "The College Board"
          ],
          [
           "Ree Drummond"
          ],
          [
           "Charles Krauthammer"
          ],
          [
           "William Davis"
          ]
         ],
         "hovertemplate": "<b>%{hovertext}</b><br><br>Genre=Non Fiction<br>Year=2013<br>Price=%{x}<br>User Rating=%{y}<br>Author=%{customdata[0]}<extra></extra>",
         "hovertext": [
          "Daring Greatly: How the Courage to Be Vulnerable Transforms the Way We Live, Love, Parent, and Lead",
          "David and Goliath: Underdogs, Misfits, and the Art of Battling Giants",
          "Diagnostic and Statistical Manual of Mental Disorders, 5th Edition: DSM-5",
          "George Washington's Secret Six: The Spy Ring That Saved the American Revolution",
          "Happy, Happy, Happy: My Life and Legacy as the Duck Commander",
          "Humans of New York",
          "Hyperbole and a Half: Unfortunate Situations, Flawed Coping Mechanisms, Mayhem, and Other Things That Happened",
          "Jesus Calling: Enjoying Peace in His Presence (with Scripture References)",
          "Killing Jesus (Bill O'Reilly's Killing Series)",
          "Knock-Knock Jokes for Kids",
          "Laugh-Out-Loud Jokes for Kids",
          "Lean In: Women, Work, and the Will to Lead",
          "Proof of Heaven: A Neurosurgeon's Journey into the Afterlife",
          "Publication Manual of the American Psychological Association, 6th Edition",
          "Quiet: The Power of Introverts in a World That Can't Stop Talking",
          "Shred: The Revolutionary Diet: 6 Weeks 4 Inches 2 Sizes",
          "Soul Healing Miracles: Ancient and New Sacred Wisdom, Knowledge, and Practical Techniques for Healing the Spiritual…",
          "StrengthsFinder 2.0",
          "The 5 Love Languages: The Secret to Love That Lasts",
          "The 7 Habits of Highly Effective People: Powerful Lessons in Personal Change",
          "The Five Dysfunctions of a Team: A Leadership Fable",
          "The Four Agreements: A Practical Guide to Personal Freedom (A Toltec Wisdom Book)",
          "The Official SAT Study Guide",
          "The Pioneer Woman Cooks: A Year of Holidays: 140 Step-by-Step Recipes for Simple, Scrumptious Celebrations",
          "Things That Matter: Three Decades of Passions, Pastimes and Politics [Deckled Edge]",
          "Wheat Belly: Lose the Wheat, Lose the Weight, and Find Your Path Back to Health"
         ],
         "legendgroup": "Non Fiction",
         "marker": {
          "color": "#636efa",
          "symbol": "circle"
         },
         "mode": "markers",
         "name": "Non Fiction",
         "orientation": "v",
         "showlegend": false,
         "type": "scatter",
         "x": [
          10,
          13,
          105,
          16,
          11,
          15,
          17,
          8,
          12,
          4,
          4,
          13,
          10,
          46,
          7,
          6,
          17,
          17,
          28,
          24,
          6,
          6,
          40,
          17,
          15,
          6
         ],
         "xaxis": "x7",
         "y": [
          4.8,
          4.4,
          4.5,
          4.6,
          4.8,
          4.8,
          4.7,
          4.9,
          4.5,
          4.5,
          4.6,
          4.5,
          4.3,
          4.5,
          4.6,
          4.1,
          4.6,
          4,
          4.7,
          4.6,
          4.6,
          4.7,
          4.4,
          4.8,
          4.7,
          4.4
         ],
         "yaxis": "y7"
        },
        {
         "customdata": [
          [
           "Thomas Piketty"
          ],
          [
           "American Psychiatric Association"
          ],
          [
           "Roger Priddy"
          ],
          [
           "David Perlmutter MD"
          ],
          [
           "Dale Carnegie"
          ],
          [
           "Brandon Stanton"
          ],
          [
           "Sarah Young"
          ],
          [
           "Bill O'Reilly"
          ],
          [
           "Rob Elliott"
          ],
          [
           "Rob Elliott"
          ],
          [
           "Ina Garten"
          ],
          [
           "Carol S. Dweck"
          ],
          [
           "American Psychological Association"
          ],
          [
           "Gallup"
          ],
          [
           "Gary Chapman"
          ],
          [
           "Daniel James Brown"
          ],
          [
           "The College Board"
          ],
          [
           "Thug Kitchen"
          ],
          [
           "Laura Hillenbrand"
          ],
          [
           "Laura Hillenbrand"
          ],
          [
           "Randall Munroe"
          ]
         ],
         "hovertemplate": "<b>%{hovertext}</b><br><br>Genre=Non Fiction<br>Year=2014<br>Price=%{x}<br>User Rating=%{y}<br>Author=%{customdata[0]}<extra></extra>",
         "hovertext": [
          "Capital in the Twenty First Century",
          "Diagnostic and Statistical Manual of Mental Disorders, 5th Edition: DSM-5",
          "First 100 Words",
          "Grain Brain: The Surprising Truth about Wheat, Carbs, and Sugar--Your Brain's Silent Killers",
          "How to Win Friends & Influence People",
          "Humans of New York",
          "Jesus Calling: Enjoying Peace in His Presence (with Scripture References)",
          "Killing Patton: The Strange Death of World War II's Most Audacious General (Bill O'Reilly's Killing Series)",
          "Knock-Knock Jokes for Kids",
          "Laugh-Out-Loud Jokes for Kids",
          "Make It Ahead: A Barefoot Contessa Cookbook",
          "Mindset: The New Psychology of Success",
          "Publication Manual of the American Psychological Association, 6th Edition",
          "StrengthsFinder 2.0",
          "The 5 Love Languages: The Secret to Love That Lasts",
          "The Boys in the Boat: Nine Americans and Their Epic Quest for Gold at the 1936 Berlin Olympics",
          "The Official SAT Study Guide",
          "Thug Kitchen: The Official Cookbook: Eat Like You Give a F*ck (Thug Kitchen Cookbooks)",
          "Unbroken: A World War II Story of Survival, Resilience, and Redemption",
          "Unbroken: A World War II Story of Survival, Resilience, and Redemption",
          "What If?: Serious Scientific Answers to Absurd Hypothetical Questions"
         ],
         "legendgroup": "Non Fiction",
         "marker": {
          "color": "#636efa",
          "symbol": "circle"
         },
         "mode": "markers",
         "name": "Non Fiction",
         "orientation": "v",
         "showlegend": false,
         "type": "scatter",
         "x": [
          28,
          105,
          4,
          10,
          11,
          15,
          8,
          6,
          4,
          4,
          20,
          10,
          46,
          17,
          28,
          12,
          40,
          23,
          13,
          16,
          17
         ],
         "xaxis": "x6",
         "y": [
          4.5,
          4.5,
          4.7,
          4.6,
          4.7,
          4.8,
          4.9,
          4.6,
          4.5,
          4.6,
          4.5,
          4.6,
          4.5,
          4,
          4.7,
          4.8,
          4.4,
          4.6,
          4.8,
          4.8,
          4.7
         ],
         "yaxis": "y6"
        },
        {
         "customdata": [
          [
           "Blue Star Coloring"
          ],
          [
           "Blue Star Coloring"
          ],
          [
           "Coloring Books for Adults"
          ],
          [
           "Chris Kyle"
          ],
          [
           "DK"
          ],
          [
           "Angie Grace"
          ],
          [
           "Atul Gawande"
          ],
          [
           "Ta-Nehisi Coates"
          ],
          [
           "Marjorie Sarnat"
          ],
          [
           "Marjorie Sarnat"
          ],
          [
           "Marty Noble"
          ],
          [
           "Johanna Basford"
          ],
          [
           "Roger Priddy"
          ],
          [
           "Scholastic"
          ],
          [
           "Dale Carnegie"
          ],
          [
           "Brandon Stanton"
          ],
          [
           "Sarah Young"
          ],
          [
           "Bill O'Reilly"
          ],
          [
           "Rob Elliott"
          ],
          [
           "Rob Elliott"
          ],
          [
           "Carol S. Dweck"
          ],
          [
           "American Psychological Association"
          ],
          [
           "Johanna Basford"
          ],
          [
           "Gallup"
          ],
          [
           "Gary Chapman"
          ],
          [
           "Stephen R. Covey"
          ],
          [
           "Daniel James Brown"
          ],
          [
           "Don Miguel Ruiz"
          ],
          [
           "Marie Kondō"
          ],
          [
           "Ree Drummond"
          ],
          [
           "Melissa Hartwig Urban"
          ],
          [
           "David McCullough"
          ],
          [
           "Thug Kitchen"
          ]
         ],
         "hovertemplate": "<b>%{hovertext}</b><br><br>Genre=Non Fiction<br>Year=2015<br>Price=%{x}<br>User Rating=%{y}<br>Author=%{customdata[0]}<extra></extra>",
         "hovertext": [
          "Adult Coloring Book: Stress Relieving Animal Designs",
          "Adult Coloring Book: Stress Relieving Patterns",
          "Adult Coloring Books: A Coloring Book for Adults Featuring Mandalas and Henna Inspired Flowers, Animals, and Paisley…",
          "American Sniper: The Autobiography of the Most Lethal Sniper in U.S. Military History",
          "Baby Touch and Feel: Animals",
          "Balance (Angie's Extreme Stress Menders)",
          "Being Mortal: Medicine and What Matters in the End",
          "Between the World and Me",
          "Creative Haven Creative Cats Coloring Book (Adult Coloring)",
          "Creative Haven Owls Coloring Book (Adult Coloring)",
          "Dover Creative Haven Art Nouveau Animal Designs Coloring Book (Creative Haven Coloring Books)",
          "Enchanted Forest: An Inky Quest and Coloring book (Activity Books, Mindfulness and Meditation, Illustrated Floral Prints…",
          "First 100 Words",
          "Harry Potter Coloring Book",
          "How to Win Friends & Influence People",
          "Humans of New York : Stories",
          "Jesus Calling: Enjoying Peace in His Presence (with Scripture References)",
          "Killing Reagan: The Violent Assault That Changed a Presidency (Bill O'Reilly's Killing Series)",
          "Knock-Knock Jokes for Kids",
          "Laugh-Out-Loud Jokes for Kids",
          "Mindset: The New Psychology of Success",
          "Publication Manual of the American Psychological Association, 6th Edition",
          "Secret Garden: An Inky Treasure Hunt and Coloring Book (For Adults, mindfulness coloring)",
          "StrengthsFinder 2.0",
          "The 5 Love Languages: The Secret to Love that Lasts",
          "The 7 Habits of Highly Effective People: Powerful Lessons in Personal Change",
          "The Boys in the Boat: Nine Americans and Their Epic Quest for Gold at the 1936 Berlin Olympics",
          "The Four Agreements: A Practical Guide to Personal Freedom (A Toltec Wisdom Book)",
          "The Life-Changing Magic of Tidying Up: The Japanese Art of Decluttering and Organizing",
          "The Pioneer Woman Cooks: Dinnertime - Comfort Classics, Freezer Food, 16-minute Meals, and Other Delicious Ways to Solve…",
          "The Whole30: The 30-Day Guide to Total Health and Food Freedom",
          "The Wright Brothers",
          "Thug Kitchen: The Official Cookbook: Eat Like You Give a F*ck (Thug Kitchen Cookbooks)"
         ],
         "legendgroup": "Non Fiction",
         "marker": {
          "color": "#636efa",
          "symbol": "circle"
         },
         "mode": "markers",
         "name": "Non Fiction",
         "orientation": "v",
         "showlegend": false,
         "type": "scatter",
         "x": [
          6,
          6,
          8,
          9,
          5,
          11,
          15,
          13,
          4,
          5,
          5,
          9,
          4,
          9,
          11,
          17,
          8,
          5,
          4,
          4,
          10,
          46,
          9,
          17,
          8,
          16,
          12,
          6,
          11,
          14,
          16,
          16,
          23
         ],
         "xaxis": "x5",
         "y": [
          4.6,
          4.4,
          4.5,
          4.6,
          4.6,
          4.6,
          4.8,
          4.7,
          4.8,
          4.8,
          4.6,
          4.7,
          4.7,
          4.7,
          4.7,
          4.9,
          4.9,
          4.6,
          4.5,
          4.6,
          4.6,
          4.5,
          4.7,
          4,
          4.8,
          4.7,
          4.8,
          4.7,
          4.5,
          4.8,
          4.6,
          4.7,
          4.6
         ],
         "yaxis": "y5"
        },
        {
         "customdata": [
          [
           "JJ Smith"
          ],
          [
           "Adult Coloring Book Designs"
          ],
          [
           "Ron Chernow"
          ],
          [
           "Ta-Nehisi Coates"
          ],
          [
           "Bruce Springsteen"
          ],
          [
           "Sasha O'Hara"
          ],
          [
           "Chrissy Teigen"
          ],
          [
           "Roger Priddy"
          ],
          [
           "Lin-Manuel Miranda"
          ],
          [
           "J. D. Vance"
          ],
          [
           "Dale Carnegie"
          ],
          [
           "Sarah Young"
          ],
          [
           "Bill O'Reilly"
          ],
          [
           "Rob Elliott"
          ],
          [
           "Rupi Kaur"
          ],
          [
           "Carol S. Dweck"
          ],
          [
           "Elie Wiesel"
          ],
          [
           "American Psychological Association"
          ],
          [
           "Gallup"
          ],
          [
           "Gary Chapman"
          ],
          [
           "Stephen R. Covey"
          ],
          [
           "Delegates of the Constitutional"
          ],
          [
           "Don Miguel Ruiz"
          ],
          [
           "Marie Kondō"
          ],
          [
           "Chip Gaines"
          ],
          [
           "The College Board"
          ],
          [
           "Melissa Hartwig Urban"
          ],
          [
           "Thug Kitchen"
          ],
          [
           "Lysa TerKeurst"
          ],
          [
           "Paul Kalanithi"
          ],
          [
           "Jen Sincero"
          ]
         ],
         "hovertemplate": "<b>%{hovertext}</b><br><br>Genre=Non Fiction<br>Year=2016<br>Price=%{x}<br>User Rating=%{y}<br>Author=%{customdata[0]}<extra></extra>",
         "hovertext": [
          "10-Day Green Smoothie Cleanse",
          "Adult Coloring Book Designs: Stress Relief Coloring Book: Garden Designs, Mandalas, Animals, and Paisley Patterns",
          "Alexander Hamilton",
          "Between the World and Me",
          "Born to Run",
          "Calm the F*ck Down: An Irreverent Adult Coloring Book (Irreverent Book Series)",
          "Cravings: Recipes for All the Food You Want to Eat: A Cookbook",
          "First 100 Words",
          "Hamilton: The Revolution",
          "Hillbilly Elegy: A Memoir of a Family and Culture in Crisis",
          "How to Win Friends & Influence People",
          "Jesus Calling: Enjoying Peace in His Presence (with Scripture References)",
          "Killing the Rising Sun: How America Vanquished World War II Japan (Bill O'Reilly's Killing Series)",
          "Laugh-Out-Loud Jokes for Kids",
          "Milk and Honey",
          "Mindset: The New Psychology of Success",
          "Night (Night)",
          "Publication Manual of the American Psychological Association, 6th Edition",
          "StrengthsFinder 2.0",
          "The 5 Love Languages: The Secret to Love that Lasts",
          "The 7 Habits of Highly Effective People: Powerful Lessons in Personal Change",
          "The Constitution of the United States",
          "The Four Agreements: A Practical Guide to Personal Freedom (A Toltec Wisdom Book)",
          "The Life-Changing Magic of Tidying Up: The Japanese Art of Decluttering and Organizing",
          "The Magnolia Story",
          "The Official SAT Study Guide, 2016 Edition (Official Study Guide for the New Sat)",
          "The Whole30: The 30-Day Guide to Total Health and Food Freedom",
          "Thug Kitchen: The Official Cookbook: Eat Like You Give a F*ck (Thug Kitchen Cookbooks)",
          "Uninvited: Living Loved When You Feel Less Than, Left Out, and Lonely",
          "When Breath Becomes Air",
          "You Are a Badass: How to Stop Doubting Your Greatness and Start Living an Awesome Life"
         ],
         "legendgroup": "Non Fiction",
         "marker": {
          "color": "#636efa",
          "symbol": "circle"
         },
         "mode": "markers",
         "name": "Non Fiction",
         "orientation": "v",
         "showlegend": false,
         "type": "scatter",
         "x": [
          8,
          4,
          13,
          13,
          18,
          4,
          16,
          4,
          54,
          14,
          11,
          8,
          6,
          4,
          8,
          10,
          9,
          46,
          17,
          8,
          16,
          0,
          6,
          11,
          5,
          36,
          16,
          23,
          9,
          14,
          8
         ],
         "xaxis": "x4",
         "y": [
          4.7,
          4.5,
          4.8,
          4.7,
          4.7,
          4.6,
          4.7,
          4.7,
          4.9,
          4.4,
          4.7,
          4.9,
          4.8,
          4.6,
          4.7,
          4.6,
          4.7,
          4.5,
          4,
          4.8,
          4.7,
          4.8,
          4.7,
          4.5,
          4.9,
          4.3,
          4.6,
          4.6,
          4.7,
          4.8,
          4.7
         ],
         "yaxis": "y4"
        },
        {
         "customdata": [
          [
           "Neil deGrasse Tyson"
          ],
          [
           "Roger Priddy"
          ],
          [
           "J. D. Vance"
          ],
          [
           "Dale Carnegie"
          ],
          [
           "David Grann"
          ],
          [
           "Rob Elliott"
          ],
          [
           "Walter Isaacson"
          ],
          [
           "Admiral William H. McRaven"
          ],
          [
           "Rupi Kaur"
          ],
          [
           "Adam Gasiewski"
          ],
          [
           "Pete Souza"
          ],
          [
           "Sheryl Sandberg"
          ],
          [
           "American Psychological Association"
          ],
          [
           "Gallup"
          ],
          [
           "Gary Chapman"
          ],
          [
           "Stephen R. Covey"
          ],
          [
           "Don Miguel Ruiz"
          ],
          [
           "Laurel Randolph"
          ],
          [
           "Marie Kondō"
          ],
          [
           "Mark Manson"
          ],
          [
           "Rupi Kaur"
          ],
          [
           "Melissa Hartwig Urban"
          ],
          [
           "Thug Kitchen"
          ],
          [
           "Timothy Ferriss"
          ],
          [
           "Hillary Rodham Clinton"
          ],
          [
           "Jen Sincero"
          ]
         ],
         "hovertemplate": "<b>%{hovertext}</b><br><br>Genre=Non Fiction<br>Year=2017<br>Price=%{x}<br>User Rating=%{y}<br>Author=%{customdata[0]}<extra></extra>",
         "hovertext": [
          "Astrophysics for People in a Hurry",
          "First 100 Words",
          "Hillbilly Elegy: A Memoir of a Family and Culture in Crisis",
          "How to Win Friends & Influence People",
          "Killers of the Flower Moon: The Osage Murders and the Birth of the FBI",
          "Laugh-Out-Loud Jokes for Kids",
          "Leonardo da Vinci",
          "Make Your Bed: Little Things That Can Change Your Life...And Maybe the World",
          "Milk and Honey",
          "Milk and Vine: Inspirational Quotes From Classic Vines",
          "Obama: An Intimate Portrait",
          "Option B: Facing Adversity, Building Resilience, and Finding Joy",
          "Publication Manual of the American Psychological Association, 6th Edition",
          "StrengthsFinder 2.0",
          "The 5 Love Languages: The Secret to Love that Lasts",
          "The 7 Habits of Highly Effective People: Powerful Lessons in Personal Change",
          "The Four Agreements: A Practical Guide to Personal Freedom (A Toltec Wisdom Book)",
          "The Instant Pot Electric Pressure Cooker Cookbook: Easy Recipes for Fast & Healthy Meals",
          "The Life-Changing Magic of Tidying Up: The Japanese Art of Decluttering and Organizing",
          "The Subtle Art of Not Giving a F*ck: A Counterintuitive Approach to Living a Good Life",
          "The Sun and Her Flowers",
          "The Whole30: The 30-Day Guide to Total Health and Food Freedom",
          "Thug Kitchen: The Official Cookbook: Eat Like You Give a F*ck (Thug Kitchen Cookbooks)",
          "Tools of Titans: The Tactics, Routines, and Habits of Billionaires, Icons, and World-Class Performers",
          "What Happened",
          "You Are a Badass: How to Stop Doubting Your Greatness and Start Living an Awesome Life"
         ],
         "legendgroup": "Non Fiction",
         "marker": {
          "color": "#636efa",
          "symbol": "circle"
         },
         "mode": "markers",
         "name": "Non Fiction",
         "orientation": "v",
         "showlegend": false,
         "type": "scatter",
         "x": [
          9,
          4,
          14,
          11,
          17,
          4,
          21,
          11,
          8,
          6,
          22,
          9,
          46,
          17,
          8,
          16,
          6,
          7,
          11,
          15,
          9,
          16,
          23,
          21,
          18,
          8
         ],
         "xaxis": "x3",
         "y": [
          4.7,
          4.7,
          4.4,
          4.7,
          4.6,
          4.6,
          4.5,
          4.7,
          4.7,
          4.4,
          4.9,
          4.5,
          4.5,
          4,
          4.8,
          4.7,
          4.7,
          4.3,
          4.5,
          4.6,
          4.7,
          4.6,
          4.6,
          4.6,
          4.6,
          4.7
         ],
         "yaxis": "y3"
        },
        {
         "customdata": [
          [
           "Jordan B. Peterson"
          ],
          [
           "James Comey"
          ],
          [
           "Michelle Obama"
          ],
          [
           "Tara Westover"
          ],
          [
           "Bob Woodward"
          ],
          [
           "Michael Wolff"
          ],
          [
           "Roger Priddy"
          ],
          [
           "Rachel Hollis"
          ],
          [
           "Joanna Gaines"
          ],
          [
           "Dale Carnegie"
          ],
          [
           "Jennifer Smith"
          ],
          [
           "Anthony Bourdain"
          ],
          [
           "Paper Peony Press"
          ],
          [
           "Joanna Gaines"
          ],
          [
           "Rupi Kaur"
          ],
          [
           "Naomi Kleinberg"
          ],
          [
           "American Psychological Association"
          ],
          [
           "Samin Nosrat"
          ],
          [
           "School Zone"
          ],
          [
           "Tucker Carlson"
          ],
          [
           "Gary Chapman"
          ],
          [
           "Amy Ramos"
          ],
          [
           "Don Miguel Ruiz"
          ],
          [
           "Laurel Randolph"
          ],
          [
           "Dr. Steven R Gundry MD"
          ],
          [
           "Dr. Steven R Gundry MD"
          ],
          [
           "Mark Manson"
          ],
          [
           "The Staff of The Late Show with"
          ],
          [
           "Jen Sincero"
          ]
         ],
         "hovertemplate": "<b>%{hovertext}</b><br><br>Genre=Non Fiction<br>Year=2018<br>Price=%{x}<br>User Rating=%{y}<br>Author=%{customdata[0]}<extra></extra>",
         "hovertext": [
          "12 Rules for Life: An Antidote to Chaos",
          "A Higher Loyalty: Truth, Lies, and Leadership",
          "Becoming",
          "Educated: A Memoir",
          "Fear: Trump in the White House",
          "Fire and Fury: Inside the Trump White House",
          "First 100 Words",
          "Girl, Wash Your Face: Stop Believing the Lies About Who You Are So You Can Become Who You Were Meant to Be",
          "Homebody: A Guide to Creating Spaces You Never Want to Leave",
          "How to Win Friends & Influence People",
          "Instant Pot Pressure Cooker Cookbook: 500 Everyday Recipes for Beginners and Advanced Users. Try Easy and Healthy…",
          "Kitchen Confidential Updated Edition: Adventures in the Culinary Underbelly (P.S.)",
          "Lettering and Modern Calligraphy: A Beginner's Guide: Learn Hand Lettering and Brush Lettering",
          "Magnolia Table: A Collection of Recipes for Gathering",
          "Milk and Honey",
          "P is for Potty! (Sesame Street) (Lift-the-Flap)",
          "Publication Manual of the American Psychological Association, 6th Edition",
          "Salt, Fat, Acid, Heat: Mastering the Elements of Good Cooking",
          "School Zone - Big Preschool Workbook - Ages 4 and Up, Colors, Shapes, Numbers 1-10, Alphabet, Pre-Writing, Pre-Reading…",
          "Ship of Fools: How a Selfish Ruling Class Is Bringing America to the Brink of Revolution",
          "The 5 Love Languages: The Secret to Love that Lasts",
          "The Complete Ketogenic Diet for Beginners: Your Essential Guide to Living the Keto Lifestyle",
          "The Four Agreements: A Practical Guide to Personal Freedom (A Toltec Wisdom Book)",
          "The Instant Pot Electric Pressure Cooker Cookbook: Easy Recipes for Fast & Healthy Meals",
          "The Plant Paradox Cookbook: 100 Delicious Recipes to Help You Lose Weight, Heal Your Gut, and Live Lectin-Free",
          "The Plant Paradox: The Hidden Dangers in \"Healthy\" Foods That Cause Disease and Weight Gain",
          "The Subtle Art of Not Giving a F*ck: A Counterintuitive Approach to Living a Good Life",
          "Whose Boat Is This Boat?: Comments That Don't Help in the Aftermath of a Hurricane",
          "You Are a Badass: How to Stop Doubting Your Greatness and Start Living an Awesome Life"
         ],
         "legendgroup": "Non Fiction",
         "marker": {
          "color": "#636efa",
          "symbol": "circle"
         },
         "mode": "markers",
         "name": "Non Fiction",
         "orientation": "v",
         "showlegend": false,
         "type": "scatter",
         "x": [
          15,
          3,
          11,
          15,
          2,
          6,
          4,
          12,
          22,
          11,
          13,
          8,
          6,
          16,
          8,
          5,
          46,
          20,
          6,
          16,
          8,
          6,
          6,
          7,
          18,
          17,
          15,
          12,
          8
         ],
         "xaxis": "x2",
         "y": [
          4.7,
          4.7,
          4.8,
          4.7,
          4.4,
          4.2,
          4.7,
          4.6,
          4.8,
          4.7,
          4.4,
          4.8,
          4.4,
          4.8,
          4.7,
          4.7,
          4.5,
          4.8,
          4.8,
          4.8,
          4.8,
          4.3,
          4.7,
          4.3,
          4.5,
          4.4,
          4.6,
          4.6,
          4.7
         ],
         "yaxis": "y2"
        },
        {
         "customdata": [
          [
           "National Geographic Kids"
          ],
          [
           "Michelle Obama"
          ],
          [
           "David Goggins"
          ],
          [
           "M Prefontaine"
          ],
          [
           "Tara Westover"
          ],
          [
           "Rachel Hollis"
          ],
          [
           "Rachel Hollis"
          ],
          [
           "Pretty Simple Press"
          ],
          [
           "Raina Telgemeier"
          ],
          [
           "Howard Stern"
          ],
          [
           "Hopscotch Girls"
          ],
          [
           "Jennifer Smith"
          ],
          [
           "Lysa TerKeurst"
          ],
          [
           "Crispin Boyer"
          ],
          [
           "Amy Shields"
          ],
          [
           "Naomi Kleinberg"
          ],
          [
           "Samin Nosrat"
          ],
          [
           "School Zone"
          ],
          [
           "Gary Chapman"
          ],
          [
           "Bessel van der Kolk M.D."
          ],
          [
           "Amy Ramos"
          ],
          [
           "Don Miguel Ruiz"
          ],
          [
           "Marie Kondō"
          ],
          [
           "The Washington Post"
          ],
          [
           "Mark Manson"
          ],
          [
           "Dave Ramsey"
          ],
          [
           "Dinah Bucholz"
          ],
          [
           "Mark R. Levin"
          ],
          [
           "Silly Bear"
          ],
          [
           "Jen Sincero"
          ]
         ],
         "hovertemplate": "<b>%{hovertext}</b><br><br>Genre=Non Fiction<br>Year=2019<br>Price=%{x}<br>User Rating=%{y}<br>Author=%{customdata[0]}<extra></extra>",
         "hovertext": [
          "5,000 Awesome Facts (About Everything!) (National Geographic Kids)",
          "Becoming",
          "Can't Hurt Me: Master Your Mind and Defy the Odds",
          "Difficult Riddles For Smart Kids: 300 Difficult Riddles And Brain Teasers Families Will Love (Books for Smart Kids)",
          "Educated: A Memoir",
          "Girl, Stop Apologizing: A Shame-Free Plan for Embracing and Achieving Your Goals",
          "Girl, Wash Your Face: Stop Believing the Lies About Who You Are So You Can Become Who You Were Meant to Be",
          "Good Days Start With Gratitude: A 52 Week Guide To Cultivate An Attitude Of Gratitude: Gratitude Journal",
          "Guts",
          "Howard Stern Comes Again",
          "I Am Confident, Brave & Beautiful: A Coloring Book for Girls",
          "Instant Pot Pressure Cooker Cookbook: 500 Everyday Recipes for Beginners and Advanced Users. Try Easy and Healthy…",
          "It's Not Supposed to Be This Way: Finding Unexpected Strength When Disappointments Leave You Shattered",
          "National Geographic Kids Why?: Over 1,111 Answers to Everything",
          "National Geographic Little Kids First Big Book of Why (National Geographic Little Kids First Big Books)",
          "P is for Potty! (Sesame Street) (Lift-the-Flap)",
          "Salt, Fat, Acid, Heat: Mastering the Elements of Good Cooking",
          "School Zone - Big Preschool Workbook - Ages 4 and Up, Colors, Shapes, Numbers 1-10, Alphabet, Pre-Writing, Pre-Reading…",
          "The 5 Love Languages: The Secret to Love that Lasts",
          "The Body Keeps the Score: Brain, Mind, and Body in the Healing of Trauma",
          "The Complete Ketogenic Diet for Beginners: Your Essential Guide to Living the Keto Lifestyle",
          "The Four Agreements: A Practical Guide to Personal Freedom (A Toltec Wisdom Book)",
          "The Life-Changing Magic of Tidying Up: The Japanese Art of Decluttering and Organizing",
          "The Mueller Report",
          "The Subtle Art of Not Giving a F*ck: A Counterintuitive Approach to Living a Good Life",
          "The Total Money Makeover: Classic Edition: A Proven Plan for Financial Fitness",
          "The Unofficial Harry Potter Cookbook: From Cauldron Cakes to Knickerbocker Glory--More Than 150 Magical Recipes for…",
          "Unfreedom of the Press",
          "Unicorn Coloring Book: For Kids Ages 4-8 (US Edition) (Silly Bear Coloring Books)",
          "You Are a Badass: How to Stop Doubting Your Greatness and Start Living an Awesome Life"
         ],
         "legendgroup": "Non Fiction",
         "marker": {
          "color": "#636efa",
          "symbol": "circle"
         },
         "mode": "markers",
         "name": "Non Fiction",
         "orientation": "v",
         "showlegend": false,
         "type": "scatter",
         "x": [
          12,
          11,
          18,
          5,
          15,
          12,
          12,
          6,
          7,
          16,
          7,
          13,
          12,
          16,
          11,
          5,
          20,
          6,
          8,
          12,
          6,
          6,
          11,
          12,
          15,
          10,
          10,
          11,
          4,
          8
         ],
         "xaxis": "x",
         "y": [
          4.8,
          4.8,
          4.8,
          4.6,
          4.7,
          4.6,
          4.6,
          4.6,
          4.8,
          4.3,
          4.8,
          4.4,
          4.8,
          4.8,
          4.8,
          4.7,
          4.8,
          4.8,
          4.8,
          4.8,
          4.3,
          4.7,
          4.5,
          4.6,
          4.6,
          4.7,
          4.7,
          4.9,
          4.8,
          4.7
         ],
         "yaxis": "y"
        },
        {
         "customdata": [
          [
           "Stephenie Meyer"
          ],
          [
           "Charlaine Harris"
          ],
          [
           "Jeff Kinney"
          ],
          [
           "Jeff Kinney"
          ],
          [
           "Stephenie Meyer"
          ],
          [
           "Stephenie Meyer"
          ],
          [
           "James Patterson"
          ],
          [
           "Stephenie Meyer"
          ],
          [
           "Elizabeth Strout"
          ],
          [
           "Charlaine Harris"
          ],
          [
           "Muriel Barbery"
          ],
          [
           "Stieg Larsson"
          ],
          [
           "Stieg Larsson"
          ],
          [
           "Mary Ann Shaffer"
          ],
          [
           "Kathryn Stockett"
          ],
          [
           "Rick Riordan"
          ],
          [
           "Dan Brown"
          ],
          [
           "William P. Young"
          ],
          [
           "Audrey Niffenegger"
          ],
          [
           "Stephenie Meyer"
          ],
          [
           "Stephenie Meyer"
          ],
          [
           "Stephen King"
          ],
          [
           "Alan Moore"
          ],
          [
           "Maurice Sendak"
          ]
         ],
         "hovertemplate": "<b>%{hovertext}</b><br><br>Genre=Fiction<br>Year=2009<br>Price=%{x}<br>User Rating=%{y}<br>Author=%{customdata[0]}<extra></extra>",
         "hovertext": [
          "Breaking Dawn (The Twilight Saga, Book 4)",
          "Dead And Gone: A Sookie Stackhouse Novel (Sookie Stackhouse/True Blood)",
          "Diary of a Wimpy Kid: The Last Straw (Book 3)",
          "Dog Days (Diary of a Wimpy Kid, Book 4) (Volume 4)",
          "Eclipse (Twilight Sagas)",
          "Eclipse (Twilight)",
          "I, Alex Cross",
          "New Moon (The Twilight Saga)",
          "Olive Kitteridge",
          "Sookie Stackhouse",
          "The Elegance of the Hedgehog",
          "The Girl Who Played with Fire (Millennium)",
          "The Girl with the Dragon Tattoo (Millennium Series)",
          "The Guernsey Literary and Potato Peel Pie Society",
          "The Help",
          "The Last Olympian (Percy Jackson and the Olympians, Book 5)",
          "The Lost Symbol",
          "The Shack: Where Tragedy Confronts Eternity",
          "The Time Traveler's Wife",
          "The Twilight Saga Collection",
          "Twilight (The Twilight Saga, Book 1)",
          "Under the Dome: A Novel",
          "Watchmen",
          "Where the Wild Things Are"
         ],
         "legendgroup": "Fiction",
         "marker": {
          "color": "#EF553B",
          "symbol": "circle"
         },
         "mode": "markers",
         "name": "Fiction",
         "orientation": "v",
         "showlegend": true,
         "type": "scatter",
         "x": [
          13,
          4,
          15,
          12,
          7,
          18,
          7,
          10,
          12,
          25,
          11,
          16,
          2,
          10,
          6,
          7,
          19,
          8,
          6,
          82,
          9,
          20,
          42,
          13
         ],
         "xaxis": "x11",
         "y": [
          4.6,
          4.6,
          4.8,
          4.8,
          4.7,
          4.7,
          4.6,
          4.6,
          4.2,
          4.7,
          4,
          4.7,
          4.4,
          4.7,
          4.8,
          4.8,
          4.2,
          4.6,
          4.4,
          4.7,
          4.7,
          4.3,
          4.8,
          4.8
         ],
         "yaxis": "y11"
        },
        {
         "customdata": [
          [
           "Suzanne Collins"
          ],
          [
           "Abraham Verghese"
          ],
          [
           "Charlaine Harris"
          ],
          [
           "Chris Cleave"
          ],
          [
           "Suzanne Collins"
          ],
          [
           "Rick Riordan"
          ],
          [
           "Tatiana de Rosnay"
          ],
          [
           "Garth Stein"
          ],
          [
           "John Grisham"
          ],
          [
           "Stieg Larsson"
          ],
          [
           "Stieg Larsson"
          ],
          [
           "Stieg Larsson"
          ],
          [
           "Kathryn Stockett"
          ],
          [
           "Suzanne Collins"
          ],
          [
           "Rick Riordan"
          ],
          [
           "Rick Riordan"
          ],
          [
           "Rick Riordan"
          ],
          [
           "Stephenie Meyer"
          ],
          [
           "Jeff Kinney"
          ],
          [
           "Robert Jordan"
          ]
         ],
         "hovertemplate": "<b>%{hovertext}</b><br><br>Genre=Fiction<br>Year=2010<br>Price=%{x}<br>User Rating=%{y}<br>Author=%{customdata[0]}<extra></extra>",
         "hovertext": [
          "Catching Fire (The Hunger Games)",
          "Cutting for Stone",
          "Dead in the Family (Sookie Stackhouse/True Blood, Book 10)",
          "Little Bee: A Novel",
          "Mockingjay (The Hunger Games)",
          "Percy Jackson and the Olympians Paperback Boxed Set (Books 1-3)",
          "Sarah's Key",
          "The Art of Racing in the Rain: A Novel",
          "The Confession: A Novel",
          "The Girl Who Kicked the Hornet's Nest (Millennium Trilogy)",
          "The Girl Who Played with Fire (Millennium Series)",
          "The Girl with the Dragon Tattoo (Millennium Series)",
          "The Help",
          "The Hunger Games",
          "The Last Olympian (Percy Jackson and the Olympians, Book 5)",
          "The Lost Hero (Heroes of Olympus, Book 1)",
          "The Red Pyramid (The Kane Chronicles, Book 1)",
          "The Short Second Life of Bree Tanner: An Eclipse Novella (The Twilight Saga)",
          "The Ugly Truth (Diary of a Wimpy Kid, Book 5)",
          "Towers of Midnight (Wheel of Time, Book Thirteen)"
         ],
         "legendgroup": "Fiction",
         "marker": {
          "color": "#EF553B",
          "symbol": "circle"
         },
         "mode": "markers",
         "name": "Fiction",
         "orientation": "v",
         "showlegend": false,
         "type": "scatter",
         "x": [
          11,
          11,
          8,
          10,
          8,
          2,
          10,
          10,
          13,
          14,
          9,
          2,
          6,
          14,
          7,
          14,
          12,
          0,
          12,
          21
         ],
         "xaxis": "x10",
         "y": [
          4.7,
          4.6,
          4.3,
          4.1,
          4.5,
          4.8,
          4.6,
          4.7,
          4.3,
          4.7,
          4.7,
          4.4,
          4.8,
          4.7,
          4.8,
          4.8,
          4.6,
          4.6,
          4.8,
          4.8
         ],
         "yaxis": "y10"
        },
        {
         "customdata": [
          [
           "Stephen King"
          ],
          [
           "George R. R. Martin"
          ],
          [
           "Jeff Kinney"
          ],
          [
           "Suzanne Collins"
          ],
          [
           "Abraham Verghese"
          ],
          [
           "Charlaine Harris"
          ],
          [
           "George R.R. Martin"
          ],
          [
           "Adam Mansbach"
          ],
          [
           "Christopher Paolini"
          ],
          [
           "Suzanne Collins"
          ],
          [
           "Garth Stein"
          ],
          [
           "Stieg Larsson"
          ],
          [
           "Kathryn Stockett"
          ],
          [
           "Kathryn Stockett"
          ],
          [
           "Suzanne Collins"
          ],
          [
           "Suzanne Collins"
          ],
          [
           "John Grisham"
          ],
          [
           "Paula McLain"
          ],
          [
           "Rick Riordan"
          ],
          [
           "Rick Riordan"
          ],
          [
           "Sara Gruen"
          ]
         ],
         "hovertemplate": "<b>%{hovertext}</b><br><br>Genre=Fiction<br>Year=2011<br>Price=%{x}<br>User Rating=%{y}<br>Author=%{customdata[0]}<extra></extra>",
         "hovertext": [
          "11/22/63: A Novel",
          "A Dance with Dragons (A Song of Ice and Fire)",
          "Cabin Fever (Diary of a Wimpy Kid, Book 6)",
          "Catching Fire (The Hunger Games)",
          "Cutting for Stone",
          "Dead Reckoning (Sookie Stackhouse/True Blood, Book 11)",
          "Game of Thrones Boxed Set: A Game of Thrones/A Clash of Kings/A Storm of Swords/A Feast for Crows",
          "Go the F**k to Sleep",
          "Inheritance: Book IV (Inheritance Cycle)",
          "Mockingjay (The Hunger Games)",
          "The Art of Racing in the Rain: A Novel",
          "The Girl Who Kicked the Hornet's Nest (Millennium Trilogy)",
          "The Help",
          "The Help",
          "The Hunger Games (Book 1)",
          "The Hunger Games Trilogy Boxed Set (1)",
          "The Litigators",
          "The Paris Wife: A Novel",
          "The Son of Neptune (Heroes of Olympus, Book 2)",
          "The Throne of Fire (The Kane Chronicles, Book 2)",
          "Water for Elephants: A Novel"
         ],
         "legendgroup": "Fiction",
         "marker": {
          "color": "#EF553B",
          "symbol": "circle"
         },
         "mode": "markers",
         "name": "Fiction",
         "orientation": "v",
         "showlegend": false,
         "type": "scatter",
         "x": [
          22,
          11,
          0,
          11,
          11,
          4,
          5,
          9,
          20,
          8,
          10,
          14,
          8,
          7,
          8,
          30,
          18,
          16,
          10,
          10,
          12
         ],
         "xaxis": "x9",
         "y": [
          4.6,
          4.4,
          4.8,
          4.7,
          4.6,
          4.2,
          4.6,
          4.8,
          4.6,
          4.5,
          4.7,
          4.7,
          4.8,
          4.8,
          4.7,
          4.8,
          4.4,
          4.3,
          4.8,
          4.7,
          4.5
         ],
         "yaxis": "y9"
        },
        {
         "customdata": [
          [
           "Suzanne Collins"
          ],
          [
           "E L James"
          ],
          [
           "E L James"
          ],
          [
           "E L James"
          ],
          [
           "E L James"
          ],
          [
           "George R.R. Martin"
          ],
          [
           "Gillian Flynn"
          ],
          [
           "Sherri Duskey Rinker"
          ],
          [
           "Suzanne Collins"
          ],
          [
           "Dr. Seuss"
          ],
          [
           "J.K. Rowling"
          ],
          [
           "John Green"
          ],
          [
           "F. Scott Fitzgerald"
          ],
          [
           "Jonathan Cahn"
          ],
          [
           "Suzanne Collins"
          ],
          [
           "Suzanne Collins"
          ],
          [
           "Rick Riordan"
          ],
          [
           "John Grisham"
          ],
          [
           "Rick Riordan"
          ],
          [
           "Jeff Kinney"
          ],
          [
           "Ken Follett"
          ]
         ],
         "hovertemplate": "<b>%{hovertext}</b><br><br>Genre=Fiction<br>Year=2012<br>Price=%{x}<br>User Rating=%{y}<br>Author=%{customdata[0]}<extra></extra>",
         "hovertext": [
          "Catching Fire (The Hunger Games)",
          "Fifty Shades Darker",
          "Fifty Shades Freed: Book Three of the Fifty Shades Trilogy (Fifty Shades of Grey Series) (English Edition)",
          "Fifty Shades of Grey: Book One of the Fifty Shades Trilogy (Fifty Shades of Grey Series)",
          "Fifty Shades Trilogy (Fifty Shades of Grey / Fifty Shades Darker / Fifty Shades Freed)",
          "Game of Thrones Boxed Set: A Game of Thrones/A Clash of Kings/A Storm of Swords/A Feast for Crows",
          "Gone Girl",
          "Goodnight, Goodnight Construction Site (Hardcover Books for Toddlers, Preschool Books for Kids)",
          "Mockingjay (The Hunger Games)",
          "Oh, the Places You'll Go!",
          "The Casual Vacancy",
          "The Fault in Our Stars",
          "The Great Gatsby",
          "The Harbinger: The Ancient Mystery that Holds the Secret of America's Future",
          "The Hunger Games (Book 1)",
          "The Hunger Games Trilogy Boxed Set (1)",
          "The Mark of Athena (Heroes of Olympus, Book 3)",
          "The Racketeer",
          "The Serpent's Shadow (The Kane Chronicles, Book 3)",
          "The Third Wheel (Diary of a Wimpy Kid, Book 7)",
          "Winter of the World: Book Two of the Century Trilogy"
         ],
         "legendgroup": "Fiction",
         "marker": {
          "color": "#EF553B",
          "symbol": "circle"
         },
         "mode": "markers",
         "name": "Fiction",
         "orientation": "v",
         "showlegend": false,
         "type": "scatter",
         "x": [
          11,
          7,
          11,
          14,
          32,
          5,
          10,
          7,
          8,
          8,
          12,
          13,
          7,
          13,
          8,
          30,
          10,
          18,
          12,
          7,
          15
         ],
         "xaxis": "x8",
         "y": [
          4.7,
          4.4,
          4.5,
          3.8,
          4.5,
          4.6,
          4,
          4.9,
          4.5,
          4.9,
          3.3,
          4.7,
          4.4,
          4.6,
          4.7,
          4.8,
          4.8,
          4.3,
          4.8,
          4.7,
          4.5
         ],
         "yaxis": "y8"
        },
        {
         "customdata": [
          [
           "Veronica Roth"
          ],
          [
           "Khaled Hosseini"
          ],
          [
           "Jeff Kinney"
          ],
          [
           "Veronica Roth"
          ],
          [
           "Stephen King"
          ],
          [
           "E L James"
          ],
          [
           "George R.R. Martin"
          ],
          [
           "Gillian Flynn"
          ],
          [
           "Sherri Duskey Rinker"
          ],
          [
           "Dan Brown"
          ],
          [
           "Stephen King"
          ],
          [
           "Dr. Seuss"
          ],
          [
           "Rush Limbaugh"
          ],
          [
           "John Grisham"
          ],
          [
           "Markus Zusak"
          ],
          [
           "Drew Daywalt"
          ],
          [
           "John Green"
          ],
          [
           "Donna Tartt"
          ],
          [
           "F. Scott Fitzgerald"
          ],
          [
           "Rick Riordan"
          ],
          [
           "Patrick Thorpe"
          ],
          [
           "Eric Carle"
          ],
          [
           "Harper Lee"
          ],
          [
           "R. J. Palacio"
          ]
         ],
         "hovertemplate": "<b>%{hovertext}</b><br><br>Genre=Fiction<br>Year=2013<br>Price=%{x}<br>User Rating=%{y}<br>Author=%{customdata[0]}<extra></extra>",
         "hovertext": [
          "Allegiant",
          "And the Mountains Echoed",
          "Diary of a Wimpy Kid: Hard Luck, Book 8",
          "Divergent",
          "Doctor Sleep: A Novel",
          "Fifty Shades of Grey: Book One of the Fifty Shades Trilogy (Fifty Shades of Grey Series)",
          "Game of Thrones Boxed Set: A Game of Thrones/A Clash of Kings/A Storm of Swords/A Feast for Crows",
          "Gone Girl",
          "Goodnight, Goodnight Construction Site (Hardcover Books for Toddlers, Preschool Books for Kids)",
          "Inferno",
          "Joyland (Hard Case Crime)",
          "Oh, the Places You'll Go!",
          "Rush Revere and the Brave Pilgrims: Time-Travel Adventures with Exceptional Americans (1)",
          "Sycamore Row (Jake Brigance)",
          "The Book Thief",
          "The Day the Crayons Quit",
          "The Fault in Our Stars",
          "The Goldfinch: A Novel (Pulitzer Prize for Fiction)",
          "The Great Gatsby",
          "The House of Hades (Heroes of Olympus, Book 4)",
          "The Legend of Zelda: Hyrule Historia",
          "The Very Hungry Caterpillar",
          "To Kill a Mockingbird",
          "Wonder"
         ],
         "legendgroup": "Fiction",
         "marker": {
          "color": "#EF553B",
          "symbol": "circle"
         },
         "mode": "markers",
         "name": "Fiction",
         "orientation": "v",
         "showlegend": false,
         "type": "scatter",
         "x": [
          13,
          13,
          0,
          15,
          13,
          14,
          5,
          10,
          7,
          14,
          12,
          8,
          12,
          18,
          6,
          9,
          13,
          20,
          7,
          14,
          20,
          5,
          0,
          9
         ],
         "xaxis": "x7",
         "y": [
          3.9,
          4.3,
          4.8,
          4.6,
          4.7,
          3.8,
          4.6,
          4,
          4.9,
          4.1,
          4.5,
          4.9,
          4.9,
          4.5,
          4.6,
          4.8,
          4.7,
          3.9,
          4.4,
          4.8,
          4.9,
          4.9,
          4.8,
          4.8
         ],
         "yaxis": "y7"
        },
        {
         "customdata": [
          [
           "George R. R. Martin"
          ],
          [
           "Anthony Doerr"
          ],
          [
           "Jeff Kinney"
          ],
          [
           "Veronica Roth"
          ],
          [
           "Veronica Roth"
          ],
          [
           "RH Disney"
          ],
          [
           "Gillian Flynn"
          ],
          [
           "Gayle Forman"
          ],
          [
           "RH Disney"
          ],
          [
           "Alice Schertle"
          ],
          [
           "John Green"
          ],
          [
           "Robert Munsch"
          ],
          [
           "Dr. Seuss"
          ],
          [
           "Christina Baker Kline"
          ],
          [
           "Rush Limbaugh"
          ],
          [
           "Paulo Coelho"
          ],
          [
           "Rick Riordan"
          ],
          [
           "Markus Zusak"
          ],
          [
           "B. J. Novak"
          ],
          [
           "Drew Daywalt"
          ],
          [
           "John Green"
          ],
          [
           "John Green"
          ],
          [
           "Donna Tartt"
          ],
          [
           "F. Scott Fitzgerald"
          ],
          [
           "James Dashner"
          ],
          [
           "Eric Carle"
          ],
          [
           "Harper Lee"
          ],
          [
           "DK"
          ],
          [
           "R. J. Palacio"
          ]
         ],
         "hovertemplate": "<b>%{hovertext}</b><br><br>Genre=Fiction<br>Year=2014<br>Price=%{x}<br>User Rating=%{y}<br>Author=%{customdata[0]}<extra></extra>",
         "hovertext": [
          "A Game of Thrones / A Clash of Kings / A Storm of Swords / A Feast of Crows / A Dance with Dragons",
          "All the Light We Cannot See",
          "Diary of a Wimpy Kid: The Long Haul",
          "Divergent",
          "Divergent / Insurgent",
          "Frozen (Little Golden Book)",
          "Gone Girl",
          "If I Stay",
          "JOURNEY TO THE ICE P",
          "Little Blue Truck",
          "Looking for Alaska",
          "Love You Forever",
          "Oh, the Places You'll Go!",
          "Orphan Train",
          "Rush Revere and the First Patriots: Time-Travel Adventures With Exceptional Americans (2)",
          "The Alchemist",
          "The Blood of Olympus (The Heroes of Olympus (5))",
          "The Book Thief",
          "The Book with No Pictures",
          "The Day the Crayons Quit",
          "The Fault in Our Stars",
          "The Fault in Our Stars",
          "The Goldfinch: A Novel (Pulitzer Prize for Fiction)",
          "The Great Gatsby",
          "The Maze Runner (Book 1)",
          "The Very Hungry Caterpillar",
          "To Kill a Mockingbird",
          "Ultimate Sticker Book: Frozen: More Than 60 Reusable Full-Color Stickers",
          "Wonder"
         ],
         "legendgroup": "Fiction",
         "marker": {
          "color": "#EF553B",
          "symbol": "circle"
         },
         "mode": "markers",
         "name": "Fiction",
         "orientation": "v",
         "showlegend": false,
         "type": "scatter",
         "x": [
          30,
          14,
          22,
          15,
          6,
          0,
          9,
          9,
          0,
          0,
          7,
          5,
          8,
          11,
          12,
          39,
          11,
          6,
          8,
          9,
          7,
          13,
          20,
          7,
          8,
          5,
          0,
          5,
          9
         ],
         "xaxis": "x6",
         "y": [
          4.7,
          4.6,
          4.8,
          4.6,
          4.5,
          4.7,
          4,
          4.3,
          4.6,
          4.9,
          4.5,
          4.8,
          4.9,
          4.6,
          4.9,
          4.7,
          4.8,
          4.6,
          4.8,
          4.8,
          4.7,
          4.7,
          3.9,
          4.4,
          4.5,
          4.9,
          4.8,
          4.5,
          4.8
         ],
         "yaxis": "y6"
        },
        {
         "customdata": [
          [
           "Anthony Doerr"
          ],
          [
           "Rod Campbell"
          ],
          [
           "Giles Andreae"
          ],
          [
           "Harper Lee"
          ],
          [
           "E L James"
          ],
          [
           "Robert Munsch"
          ],
          [
           "Dr. Seuss"
          ],
          [
           "Jeff Kinney"
          ],
          [
           "B. J. Novak"
          ],
          [
           "Drew Daywalt"
          ],
          [
           "Paula Hawkins"
          ],
          [
           "Andy Weir"
          ],
          [
           "Kristin Hannah"
          ],
          [
           "Eric Carle"
          ],
          [
           "Harper Lee"
          ],
          [
           "Dr. Seuss"
          ],
          [
           "R. J. Palacio"
          ]
         ],
         "hovertemplate": "<b>%{hovertext}</b><br><br>Genre=Fiction<br>Year=2015<br>Price=%{x}<br>User Rating=%{y}<br>Author=%{customdata[0]}<extra></extra>",
         "hovertext": [
          "All the Light We Cannot See",
          "Dear Zoo: A Lift-the-Flap Book",
          "Giraffes Can't Dance",
          "Go Set a Watchman: A Novel",
          "Grey: Fifty Shades of Grey as Told by Christian (Fifty Shades of Grey Series)",
          "Love You Forever",
          "Oh, the Places You'll Go!",
          "Old School (Diary of a Wimpy Kid #10)",
          "The Book with No Pictures",
          "The Day the Crayons Quit",
          "The Girl on the Train",
          "The Martian",
          "The Nightingale: A Novel",
          "The Very Hungry Caterpillar",
          "To Kill a Mockingbird",
          "What Pet Should I Get? (Classic Seuss)",
          "Wonder"
         ],
         "legendgroup": "Fiction",
         "marker": {
          "color": "#EF553B",
          "symbol": "circle"
         },
         "mode": "markers",
         "name": "Fiction",
         "orientation": "v",
         "showlegend": false,
         "type": "scatter",
         "x": [
          14,
          5,
          4,
          19,
          14,
          5,
          8,
          7,
          8,
          9,
          18,
          9,
          11,
          5,
          0,
          14,
          9
         ],
         "xaxis": "x5",
         "y": [
          4.6,
          4.8,
          4.8,
          3.6,
          4.4,
          4.8,
          4.9,
          4.8,
          4.8,
          4.8,
          4.1,
          4.7,
          4.8,
          4.9,
          4.8,
          4.7,
          4.8
         ],
         "yaxis": "y5"
        },
        {
         "customdata": [
          [
           "Fredrik Backman"
          ],
          [
           "Rod Campbell"
          ],
          [
           "Jeff Kinney"
          ],
          [
           "Ray Bradbury"
          ],
          [
           "J.K. Rowling"
          ],
          [
           "Giles Andreae"
          ],
          [
           "J.K. Rowling"
          ],
          [
           "J.K. Rowling"
          ],
          [
           "J.K. Rowling"
          ],
          [
           "J. K. Rowling"
          ],
          [
           "Dr. Seuss"
          ],
          [
           "Scholastic"
          ],
          [
           "Paula Hawkins"
          ],
          [
           "Sandra Boynton"
          ],
          [
           "Kristin Hannah"
          ],
          [
           "Eric Carle"
          ],
          [
           "Emily Winfield Martin"
          ],
          [
           "Harper Lee"
          ],
          [
           "R. J. Palacio"
          ]
         ],
         "hovertemplate": "<b>%{hovertext}</b><br><br>Genre=Fiction<br>Year=2016<br>Price=%{x}<br>User Rating=%{y}<br>Author=%{customdata[0]}<extra></extra>",
         "hovertext": [
          "A Man Called Ove: A Novel",
          "Dear Zoo: A Lift-the-Flap Book",
          "Double Down (Diary of a Wimpy Kid #11)",
          "Fahrenheit 451",
          "Fantastic Beasts and Where to Find Them: The Original Screenplay (Harry Potter)",
          "Giraffes Can't Dance",
          "Harry Potter and the Chamber of Secrets: The Illustrated Edition (Harry Potter, Book 2)",
          "Harry Potter and the Cursed Child, Parts 1 & 2, Special Rehearsal Edition Script",
          "Harry Potter and the Sorcerer's Stone: The Illustrated Edition (Harry Potter, Book 1)",
          "Harry Potter Paperback Box Set (Books 1-7)",
          "Oh, the Places You'll Go!",
          "Pokémon Deluxe Essential Handbook: The Need-to-Know Stats and Facts on Over 700 Pokémon",
          "The Girl on the Train",
          "The Going-To-Bed Book",
          "The Nightingale: A Novel",
          "The Very Hungry Caterpillar",
          "The Wonderful Things You Will Be",
          "To Kill a Mockingbird",
          "Wonder"
         ],
         "legendgroup": "Fiction",
         "marker": {
          "color": "#EF553B",
          "symbol": "circle"
         },
         "mode": "markers",
         "name": "Fiction",
         "orientation": "v",
         "showlegend": false,
         "type": "scatter",
         "x": [
          8,
          5,
          20,
          8,
          15,
          4,
          30,
          12,
          22,
          52,
          8,
          9,
          7,
          5,
          11,
          5,
          10,
          0,
          9
         ],
         "xaxis": "x4",
         "y": [
          4.6,
          4.8,
          4.8,
          4.6,
          4.7,
          4.8,
          4.9,
          4,
          4.9,
          4.8,
          4.9,
          4.7,
          4.1,
          4.8,
          4.8,
          4.9,
          4.9,
          4.8,
          4.8
         ],
         "yaxis": "y4"
        },
        {
         "customdata": [
          [
           "George Orwell"
          ],
          [
           "Amor Towles"
          ],
          [
           "Fredrik Backman"
          ],
          [
           "Bill Martin Jr."
          ],
          [
           "Rod Campbell"
          ],
          [
           "Dav Pilkey"
          ],
          [
           "Giles Andreae"
          ],
          [
           "Margaret Wise Brown"
          ],
          [
           "J.K. Rowling"
          ],
          [
           "Ann Whitford Paul"
          ],
          [
           "Dr. Seuss"
          ],
          [
           "Dan Brown"
          ],
          [
           "Wizards RPG Team"
          ],
          [
           "Golden Books"
          ],
          [
           "Ernest Cline"
          ],
          [
           "Jeff Kinney"
          ],
          [
           "Sandra Boynton"
          ],
          [
           "Margaret Atwood"
          ],
          [
           "Deborah Diesen"
          ],
          [
           "William P. Young"
          ],
          [
           "Eric Carle"
          ],
          [
           "Emily Winfield Martin"
          ],
          [
           "Jay Asher"
          ],
          [
           "R. J. Palacio"
          ]
         ],
         "hovertemplate": "<b>%{hovertext}</b><br><br>Genre=Fiction<br>Year=2017<br>Price=%{x}<br>User Rating=%{y}<br>Author=%{customdata[0]}<extra></extra>",
         "hovertext": [
          "1984 (Signet Classics)",
          "A Gentleman in Moscow: A Novel",
          "A Man Called Ove: A Novel",
          "Brown Bear, Brown Bear, What Do You See?",
          "Dear Zoo: A Lift-the-Flap Book",
          "Dog Man: A Tale of Two Kitties: From the Creator of Captain Underpants (Dog Man #3)",
          "Giraffes Can't Dance",
          "Goodnight Moon",
          "Harry Potter and the Prisoner of Azkaban: The Illustrated Edition (Harry Potter, Book 3)",
          "If Animals Kissed Good Night",
          "Oh, the Places You'll Go!",
          "Origin: A Novel (Robert Langdon)",
          "Player's Handbook (Dungeons & Dragons)",
          "Puppy Birthday to You! (Paw Patrol) (Little Golden Book)",
          "Ready Player One: A Novel",
          "The Getaway",
          "The Going-To-Bed Book",
          "The Handmaid's Tale",
          "The Pout-Pout Fish",
          "The Shack: Where Tragedy Confronts Eternity",
          "The Very Hungry Caterpillar",
          "The Wonderful Things You Will Be",
          "Thirteen Reasons Why",
          "Wonder"
         ],
         "legendgroup": "Fiction",
         "marker": {
          "color": "#EF553B",
          "symbol": "circle"
         },
         "mode": "markers",
         "name": "Fiction",
         "orientation": "v",
         "showlegend": false,
         "type": "scatter",
         "x": [
          6,
          15,
          8,
          5,
          5,
          8,
          4,
          5,
          30,
          4,
          8,
          13,
          27,
          4,
          12,
          0,
          5,
          7,
          5,
          8,
          5,
          10,
          9,
          9
         ],
         "xaxis": "x3",
         "y": [
          4.7,
          4.7,
          4.6,
          4.9,
          4.8,
          4.9,
          4.8,
          4.8,
          4.9,
          4.8,
          4.9,
          4.3,
          4.8,
          4.8,
          4.6,
          4.8,
          4.8,
          4.3,
          4.8,
          4.6,
          4.9,
          4.9,
          4.5,
          4.8
         ],
         "yaxis": "y3"
        },
        {
         "customdata": [
          [
           "Madeleine L'Engle"
          ],
          [
           "Kevin Kwan"
          ],
          [
           "Rod Campbell"
          ],
          [
           "Dav Pilkey"
          ],
          [
           "Dav Pilkey"
          ],
          [
           "Dav Pilkey"
          ],
          [
           "Ray Bradbury"
          ],
          [
           "Giles Andreae"
          ],
          [
           "Margaret Wise Brown"
          ],
          [
           "Jill Twiss"
          ],
          [
           "Celeste Ng"
          ],
          [
           "Dr. Seuss"
          ],
          [
           "Wizards RPG Team"
          ],
          [
           "Ernest Cline"
          ],
          [
           "Angie Thomas"
          ],
          [
           "Jeff Kinney"
          ],
          [
           "Deborah Diesen"
          ],
          [
           "James Patterson"
          ],
          [
           "Eric Carle"
          ],
          [
           "Emily Winfield Martin"
          ],
          [
           "Craig Smith"
          ]
         ],
         "hovertemplate": "<b>%{hovertext}</b><br><br>Genre=Fiction<br>Year=2018<br>Price=%{x}<br>User Rating=%{y}<br>Author=%{customdata[0]}<extra></extra>",
         "hovertext": [
          "A Wrinkle in Time (Time Quintet)",
          "Crazy Rich Asians (Crazy Rich Asians Trilogy)",
          "Dear Zoo: A Lift-the-Flap Book",
          "Dog Man and Cat Kid: From the Creator of Captain Underpants (Dog Man #4)",
          "Dog Man: Brawl of the Wild: From the Creator of Captain Underpants (Dog Man #6)",
          "Dog Man: Lord of the Fleas: From the Creator of Captain Underpants (Dog Man #5)",
          "Fahrenheit 451",
          "Giraffes Can't Dance",
          "Goodnight Moon",
          "Last Week Tonight with John Oliver Presents A Day in the Life of Marlon Bundo (Better Bundo Book, LGBT Childrens Book)",
          "Little Fires Everywhere",
          "Oh, the Places You'll Go!",
          "Player's Handbook (Dungeons & Dragons)",
          "Ready Player One: A Novel",
          "The Hate U Give",
          "The Meltdown (Diary of a Wimpy Kid Book 13)",
          "The Pout-Pout Fish",
          "The President Is Missing: A Novel",
          "The Very Hungry Caterpillar",
          "The Wonderful Things You Will Be",
          "The Wonky Donkey"
         ],
         "legendgroup": "Fiction",
         "marker": {
          "color": "#EF553B",
          "symbol": "circle"
         },
         "mode": "markers",
         "name": "Fiction",
         "orientation": "v",
         "showlegend": false,
         "type": "scatter",
         "x": [
          5,
          8,
          5,
          6,
          4,
          6,
          8,
          4,
          5,
          13,
          12,
          8,
          27,
          12,
          11,
          8,
          5,
          18,
          5,
          10,
          4
         ],
         "xaxis": "x2",
         "y": [
          4.5,
          4.3,
          4.8,
          4.9,
          4.9,
          4.9,
          4.6,
          4.8,
          4.8,
          4.9,
          4.5,
          4.9,
          4.8,
          4.6,
          4.8,
          4.8,
          4.8,
          4.3,
          4.9,
          4.9,
          4.8
         ],
         "yaxis": "y2"
        },
        {
         "customdata": [
          [
           "Bill Martin Jr."
          ],
          [
           "Dav Pilkey"
          ],
          [
           "Dav Pilkey"
          ],
          [
           "Dav Pilkey"
          ],
          [
           "Giles Andreae"
          ],
          [
           "Margaret Wise Brown"
          ],
          [
           "J. K. Rowling"
          ],
          [
           "Ann Whitford Paul"
          ],
          [
           "Dr. Seuss"
          ],
          [
           "Wizards RPG Team"
          ],
          [
           "Nathan W. Pyle"
          ],
          [
           "John Grisham"
          ],
          [
           "Alex Michaelides"
          ],
          [
           "Eric Carle"
          ],
          [
           "Emily Winfield Martin"
          ],
          [
           "Craig Smith"
          ],
          [
           "Harper Lee"
          ],
          [
           "Adir Levy"
          ],
          [
           "Delia Owens"
          ],
          [
           "Jeff Kinney"
          ]
         ],
         "hovertemplate": "<b>%{hovertext}</b><br><br>Genre=Fiction<br>Year=2019<br>Price=%{x}<br>User Rating=%{y}<br>Author=%{customdata[0]}<extra></extra>",
         "hovertext": [
          "Brown Bear, Brown Bear, What Do You See?",
          "Dog Man: Brawl of the Wild: From the Creator of Captain Underpants (Dog Man #6)",
          "Dog Man: Fetch-22: From the Creator of Captain Underpants (Dog Man #8)",
          "Dog Man: For Whom the Ball Rolls: From the Creator of Captain Underpants (Dog Man #7)",
          "Giraffes Can't Dance",
          "Goodnight Moon",
          "Harry Potter and the Goblet of Fire: The Illustrated Edition (Harry Potter, Book 4) (4)",
          "If Animals Kissed Good Night",
          "Oh, the Places You'll Go!",
          "Player's Handbook (Dungeons & Dragons)",
          "Strange Planet (Strange Planet Series)",
          "The Guardians: A Novel",
          "The Silent Patient",
          "The Very Hungry Caterpillar",
          "The Wonderful Things You Will Be",
          "The Wonky Donkey",
          "To Kill a Mockingbird",
          "What Should Danny Do? (The Power to Choose Series)",
          "Where the Crawdads Sing",
          "Wrecking Ball (Diary of a Wimpy Kid Book 14)"
         ],
         "legendgroup": "Fiction",
         "marker": {
          "color": "#EF553B",
          "symbol": "circle"
         },
         "mode": "markers",
         "name": "Fiction",
         "orientation": "v",
         "showlegend": false,
         "type": "scatter",
         "x": [
          5,
          4,
          8,
          8,
          4,
          5,
          18,
          4,
          8,
          27,
          6,
          14,
          14,
          5,
          10,
          4,
          7,
          13,
          15,
          8
         ],
         "xaxis": "x",
         "y": [
          4.9,
          4.9,
          4.9,
          4.9,
          4.8,
          4.8,
          4.9,
          4.8,
          4.9,
          4.8,
          4.9,
          4.5,
          4.5,
          4.9,
          4.9,
          4.8,
          4.8,
          4.8,
          4.8,
          4.9
         ],
         "yaxis": "y"
        }
       ],
       "layout": {
        "annotations": [
         {
          "font": {},
          "showarrow": false,
          "text": "Year=2019",
          "textangle": 90,
          "x": 0.98,
          "xanchor": "left",
          "xref": "paper",
          "y": 0.031818181818181815,
          "yanchor": "middle",
          "yref": "paper"
         },
         {
          "font": {},
          "showarrow": false,
          "text": "Year=2018",
          "textangle": 90,
          "x": 0.98,
          "xanchor": "left",
          "xref": "paper",
          "y": 0.12545454545454543,
          "yanchor": "middle",
          "yref": "paper"
         },
         {
          "font": {},
          "showarrow": false,
          "text": "Year=2017",
          "textangle": 90,
          "x": 0.98,
          "xanchor": "left",
          "xref": "paper",
          "y": 0.21909090909090906,
          "yanchor": "middle",
          "yref": "paper"
         },
         {
          "font": {},
          "showarrow": false,
          "text": "Year=2016",
          "textangle": 90,
          "x": 0.98,
          "xanchor": "left",
          "xref": "paper",
          "y": 0.3127272727272727,
          "yanchor": "middle",
          "yref": "paper"
         },
         {
          "font": {},
          "showarrow": false,
          "text": "Year=2015",
          "textangle": 90,
          "x": 0.98,
          "xanchor": "left",
          "xref": "paper",
          "y": 0.4063636363636363,
          "yanchor": "middle",
          "yref": "paper"
         },
         {
          "font": {},
          "showarrow": false,
          "text": "Year=2014",
          "textangle": 90,
          "x": 0.98,
          "xanchor": "left",
          "xref": "paper",
          "y": 0.49999999999999994,
          "yanchor": "middle",
          "yref": "paper"
         },
         {
          "font": {},
          "showarrow": false,
          "text": "Year=2013",
          "textangle": 90,
          "x": 0.98,
          "xanchor": "left",
          "xref": "paper",
          "y": 0.5936363636363635,
          "yanchor": "middle",
          "yref": "paper"
         },
         {
          "font": {},
          "showarrow": false,
          "text": "Year=2012",
          "textangle": 90,
          "x": 0.98,
          "xanchor": "left",
          "xref": "paper",
          "y": 0.687272727272727,
          "yanchor": "middle",
          "yref": "paper"
         },
         {
          "font": {},
          "showarrow": false,
          "text": "Year=2011",
          "textangle": 90,
          "x": 0.98,
          "xanchor": "left",
          "xref": "paper",
          "y": 0.7809090909090908,
          "yanchor": "middle",
          "yref": "paper"
         },
         {
          "font": {},
          "showarrow": false,
          "text": "Year=2010",
          "textangle": 90,
          "x": 0.98,
          "xanchor": "left",
          "xref": "paper",
          "y": 0.8745454545454543,
          "yanchor": "middle",
          "yref": "paper"
         },
         {
          "font": {},
          "showarrow": false,
          "text": "Year=2009",
          "textangle": 90,
          "x": 0.98,
          "xanchor": "left",
          "xref": "paper",
          "y": 0.9681818181818178,
          "yanchor": "middle",
          "yref": "paper"
         }
        ],
        "height": 2000,
        "legend": {
         "title": {
          "text": "Genre"
         },
         "tracegroupgap": 0
        },
        "margin": {
         "b": 20,
         "l": 20,
         "r": 20,
         "t": 40
        },
        "paper_bgcolor": "LightSteelBlue",
        "template": {
         "data": {
          "bar": [
           {
            "error_x": {
             "color": "#2a3f5f"
            },
            "error_y": {
             "color": "#2a3f5f"
            },
            "marker": {
             "line": {
              "color": "#E5ECF6",
              "width": 0.5
             },
             "pattern": {
              "fillmode": "overlay",
              "size": 10,
              "solidity": 0.2
             }
            },
            "type": "bar"
           }
          ],
          "barpolar": [
           {
            "marker": {
             "line": {
              "color": "#E5ECF6",
              "width": 0.5
             },
             "pattern": {
              "fillmode": "overlay",
              "size": 10,
              "solidity": 0.2
             }
            },
            "type": "barpolar"
           }
          ],
          "carpet": [
           {
            "aaxis": {
             "endlinecolor": "#2a3f5f",
             "gridcolor": "white",
             "linecolor": "white",
             "minorgridcolor": "white",
             "startlinecolor": "#2a3f5f"
            },
            "baxis": {
             "endlinecolor": "#2a3f5f",
             "gridcolor": "white",
             "linecolor": "white",
             "minorgridcolor": "white",
             "startlinecolor": "#2a3f5f"
            },
            "type": "carpet"
           }
          ],
          "choropleth": [
           {
            "colorbar": {
             "outlinewidth": 0,
             "ticks": ""
            },
            "type": "choropleth"
           }
          ],
          "contour": [
           {
            "colorbar": {
             "outlinewidth": 0,
             "ticks": ""
            },
            "colorscale": [
             [
              0,
              "#0d0887"
             ],
             [
              0.1111111111111111,
              "#46039f"
             ],
             [
              0.2222222222222222,
              "#7201a8"
             ],
             [
              0.3333333333333333,
              "#9c179e"
             ],
             [
              0.4444444444444444,
              "#bd3786"
             ],
             [
              0.5555555555555556,
              "#d8576b"
             ],
             [
              0.6666666666666666,
              "#ed7953"
             ],
             [
              0.7777777777777778,
              "#fb9f3a"
             ],
             [
              0.8888888888888888,
              "#fdca26"
             ],
             [
              1,
              "#f0f921"
             ]
            ],
            "type": "contour"
           }
          ],
          "contourcarpet": [
           {
            "colorbar": {
             "outlinewidth": 0,
             "ticks": ""
            },
            "type": "contourcarpet"
           }
          ],
          "heatmap": [
           {
            "colorbar": {
             "outlinewidth": 0,
             "ticks": ""
            },
            "colorscale": [
             [
              0,
              "#0d0887"
             ],
             [
              0.1111111111111111,
              "#46039f"
             ],
             [
              0.2222222222222222,
              "#7201a8"
             ],
             [
              0.3333333333333333,
              "#9c179e"
             ],
             [
              0.4444444444444444,
              "#bd3786"
             ],
             [
              0.5555555555555556,
              "#d8576b"
             ],
             [
              0.6666666666666666,
              "#ed7953"
             ],
             [
              0.7777777777777778,
              "#fb9f3a"
             ],
             [
              0.8888888888888888,
              "#fdca26"
             ],
             [
              1,
              "#f0f921"
             ]
            ],
            "type": "heatmap"
           }
          ],
          "heatmapgl": [
           {
            "colorbar": {
             "outlinewidth": 0,
             "ticks": ""
            },
            "colorscale": [
             [
              0,
              "#0d0887"
             ],
             [
              0.1111111111111111,
              "#46039f"
             ],
             [
              0.2222222222222222,
              "#7201a8"
             ],
             [
              0.3333333333333333,
              "#9c179e"
             ],
             [
              0.4444444444444444,
              "#bd3786"
             ],
             [
              0.5555555555555556,
              "#d8576b"
             ],
             [
              0.6666666666666666,
              "#ed7953"
             ],
             [
              0.7777777777777778,
              "#fb9f3a"
             ],
             [
              0.8888888888888888,
              "#fdca26"
             ],
             [
              1,
              "#f0f921"
             ]
            ],
            "type": "heatmapgl"
           }
          ],
          "histogram": [
           {
            "marker": {
             "pattern": {
              "fillmode": "overlay",
              "size": 10,
              "solidity": 0.2
             }
            },
            "type": "histogram"
           }
          ],
          "histogram2d": [
           {
            "colorbar": {
             "outlinewidth": 0,
             "ticks": ""
            },
            "colorscale": [
             [
              0,
              "#0d0887"
             ],
             [
              0.1111111111111111,
              "#46039f"
             ],
             [
              0.2222222222222222,
              "#7201a8"
             ],
             [
              0.3333333333333333,
              "#9c179e"
             ],
             [
              0.4444444444444444,
              "#bd3786"
             ],
             [
              0.5555555555555556,
              "#d8576b"
             ],
             [
              0.6666666666666666,
              "#ed7953"
             ],
             [
              0.7777777777777778,
              "#fb9f3a"
             ],
             [
              0.8888888888888888,
              "#fdca26"
             ],
             [
              1,
              "#f0f921"
             ]
            ],
            "type": "histogram2d"
           }
          ],
          "histogram2dcontour": [
           {
            "colorbar": {
             "outlinewidth": 0,
             "ticks": ""
            },
            "colorscale": [
             [
              0,
              "#0d0887"
             ],
             [
              0.1111111111111111,
              "#46039f"
             ],
             [
              0.2222222222222222,
              "#7201a8"
             ],
             [
              0.3333333333333333,
              "#9c179e"
             ],
             [
              0.4444444444444444,
              "#bd3786"
             ],
             [
              0.5555555555555556,
              "#d8576b"
             ],
             [
              0.6666666666666666,
              "#ed7953"
             ],
             [
              0.7777777777777778,
              "#fb9f3a"
             ],
             [
              0.8888888888888888,
              "#fdca26"
             ],
             [
              1,
              "#f0f921"
             ]
            ],
            "type": "histogram2dcontour"
           }
          ],
          "mesh3d": [
           {
            "colorbar": {
             "outlinewidth": 0,
             "ticks": ""
            },
            "type": "mesh3d"
           }
          ],
          "parcoords": [
           {
            "line": {
             "colorbar": {
              "outlinewidth": 0,
              "ticks": ""
             }
            },
            "type": "parcoords"
           }
          ],
          "pie": [
           {
            "automargin": true,
            "type": "pie"
           }
          ],
          "scatter": [
           {
            "marker": {
             "colorbar": {
              "outlinewidth": 0,
              "ticks": ""
             }
            },
            "type": "scatter"
           }
          ],
          "scatter3d": [
           {
            "line": {
             "colorbar": {
              "outlinewidth": 0,
              "ticks": ""
             }
            },
            "marker": {
             "colorbar": {
              "outlinewidth": 0,
              "ticks": ""
             }
            },
            "type": "scatter3d"
           }
          ],
          "scattercarpet": [
           {
            "marker": {
             "colorbar": {
              "outlinewidth": 0,
              "ticks": ""
             }
            },
            "type": "scattercarpet"
           }
          ],
          "scattergeo": [
           {
            "marker": {
             "colorbar": {
              "outlinewidth": 0,
              "ticks": ""
             }
            },
            "type": "scattergeo"
           }
          ],
          "scattergl": [
           {
            "marker": {
             "colorbar": {
              "outlinewidth": 0,
              "ticks": ""
             }
            },
            "type": "scattergl"
           }
          ],
          "scattermapbox": [
           {
            "marker": {
             "colorbar": {
              "outlinewidth": 0,
              "ticks": ""
             }
            },
            "type": "scattermapbox"
           }
          ],
          "scatterpolar": [
           {
            "marker": {
             "colorbar": {
              "outlinewidth": 0,
              "ticks": ""
             }
            },
            "type": "scatterpolar"
           }
          ],
          "scatterpolargl": [
           {
            "marker": {
             "colorbar": {
              "outlinewidth": 0,
              "ticks": ""
             }
            },
            "type": "scatterpolargl"
           }
          ],
          "scatterternary": [
           {
            "marker": {
             "colorbar": {
              "outlinewidth": 0,
              "ticks": ""
             }
            },
            "type": "scatterternary"
           }
          ],
          "surface": [
           {
            "colorbar": {
             "outlinewidth": 0,
             "ticks": ""
            },
            "colorscale": [
             [
              0,
              "#0d0887"
             ],
             [
              0.1111111111111111,
              "#46039f"
             ],
             [
              0.2222222222222222,
              "#7201a8"
             ],
             [
              0.3333333333333333,
              "#9c179e"
             ],
             [
              0.4444444444444444,
              "#bd3786"
             ],
             [
              0.5555555555555556,
              "#d8576b"
             ],
             [
              0.6666666666666666,
              "#ed7953"
             ],
             [
              0.7777777777777778,
              "#fb9f3a"
             ],
             [
              0.8888888888888888,
              "#fdca26"
             ],
             [
              1,
              "#f0f921"
             ]
            ],
            "type": "surface"
           }
          ],
          "table": [
           {
            "cells": {
             "fill": {
              "color": "#EBF0F8"
             },
             "line": {
              "color": "white"
             }
            },
            "header": {
             "fill": {
              "color": "#C8D4E3"
             },
             "line": {
              "color": "white"
             }
            },
            "type": "table"
           }
          ]
         },
         "layout": {
          "annotationdefaults": {
           "arrowcolor": "#2a3f5f",
           "arrowhead": 0,
           "arrowwidth": 1
          },
          "autotypenumbers": "strict",
          "coloraxis": {
           "colorbar": {
            "outlinewidth": 0,
            "ticks": ""
           }
          },
          "colorscale": {
           "diverging": [
            [
             0,
             "#8e0152"
            ],
            [
             0.1,
             "#c51b7d"
            ],
            [
             0.2,
             "#de77ae"
            ],
            [
             0.3,
             "#f1b6da"
            ],
            [
             0.4,
             "#fde0ef"
            ],
            [
             0.5,
             "#f7f7f7"
            ],
            [
             0.6,
             "#e6f5d0"
            ],
            [
             0.7,
             "#b8e186"
            ],
            [
             0.8,
             "#7fbc41"
            ],
            [
             0.9,
             "#4d9221"
            ],
            [
             1,
             "#276419"
            ]
           ],
           "sequential": [
            [
             0,
             "#0d0887"
            ],
            [
             0.1111111111111111,
             "#46039f"
            ],
            [
             0.2222222222222222,
             "#7201a8"
            ],
            [
             0.3333333333333333,
             "#9c179e"
            ],
            [
             0.4444444444444444,
             "#bd3786"
            ],
            [
             0.5555555555555556,
             "#d8576b"
            ],
            [
             0.6666666666666666,
             "#ed7953"
            ],
            [
             0.7777777777777778,
             "#fb9f3a"
            ],
            [
             0.8888888888888888,
             "#fdca26"
            ],
            [
             1,
             "#f0f921"
            ]
           ],
           "sequentialminus": [
            [
             0,
             "#0d0887"
            ],
            [
             0.1111111111111111,
             "#46039f"
            ],
            [
             0.2222222222222222,
             "#7201a8"
            ],
            [
             0.3333333333333333,
             "#9c179e"
            ],
            [
             0.4444444444444444,
             "#bd3786"
            ],
            [
             0.5555555555555556,
             "#d8576b"
            ],
            [
             0.6666666666666666,
             "#ed7953"
            ],
            [
             0.7777777777777778,
             "#fb9f3a"
            ],
            [
             0.8888888888888888,
             "#fdca26"
            ],
            [
             1,
             "#f0f921"
            ]
           ]
          },
          "colorway": [
           "#636efa",
           "#EF553B",
           "#00cc96",
           "#ab63fa",
           "#FFA15A",
           "#19d3f3",
           "#FF6692",
           "#B6E880",
           "#FF97FF",
           "#FECB52"
          ],
          "font": {
           "color": "#2a3f5f"
          },
          "geo": {
           "bgcolor": "white",
           "lakecolor": "white",
           "landcolor": "#E5ECF6",
           "showlakes": true,
           "showland": true,
           "subunitcolor": "white"
          },
          "hoverlabel": {
           "align": "left"
          },
          "hovermode": "closest",
          "mapbox": {
           "style": "light"
          },
          "paper_bgcolor": "white",
          "plot_bgcolor": "#E5ECF6",
          "polar": {
           "angularaxis": {
            "gridcolor": "white",
            "linecolor": "white",
            "ticks": ""
           },
           "bgcolor": "#E5ECF6",
           "radialaxis": {
            "gridcolor": "white",
            "linecolor": "white",
            "ticks": ""
           }
          },
          "scene": {
           "xaxis": {
            "backgroundcolor": "#E5ECF6",
            "gridcolor": "white",
            "gridwidth": 2,
            "linecolor": "white",
            "showbackground": true,
            "ticks": "",
            "zerolinecolor": "white"
           },
           "yaxis": {
            "backgroundcolor": "#E5ECF6",
            "gridcolor": "white",
            "gridwidth": 2,
            "linecolor": "white",
            "showbackground": true,
            "ticks": "",
            "zerolinecolor": "white"
           },
           "zaxis": {
            "backgroundcolor": "#E5ECF6",
            "gridcolor": "white",
            "gridwidth": 2,
            "linecolor": "white",
            "showbackground": true,
            "ticks": "",
            "zerolinecolor": "white"
           }
          },
          "shapedefaults": {
           "line": {
            "color": "#2a3f5f"
           }
          },
          "ternary": {
           "aaxis": {
            "gridcolor": "white",
            "linecolor": "white",
            "ticks": ""
           },
           "baxis": {
            "gridcolor": "white",
            "linecolor": "white",
            "ticks": ""
           },
           "bgcolor": "#E5ECF6",
           "caxis": {
            "gridcolor": "white",
            "linecolor": "white",
            "ticks": ""
           }
          },
          "title": {
           "x": 0.05
          },
          "xaxis": {
           "automargin": true,
           "gridcolor": "white",
           "linecolor": "white",
           "ticks": "",
           "title": {
            "standoff": 15
           },
           "zerolinecolor": "white",
           "zerolinewidth": 2
          },
          "yaxis": {
           "automargin": true,
           "gridcolor": "white",
           "linecolor": "white",
           "ticks": "",
           "title": {
            "standoff": 15
           },
           "zerolinecolor": "white",
           "zerolinewidth": 2
          }
         }
        },
        "title": {
         "text": "Price vs. User Rating"
        },
        "xaxis": {
         "anchor": "y",
         "domain": [
          0,
          0.98
         ],
         "title": {
          "text": "Price"
         }
        },
        "xaxis10": {
         "anchor": "y10",
         "domain": [
          0,
          0.98
         ],
         "matches": "x",
         "showticklabels": false
        },
        "xaxis11": {
         "anchor": "y11",
         "domain": [
          0,
          0.98
         ],
         "matches": "x",
         "showticklabels": false
        },
        "xaxis2": {
         "anchor": "y2",
         "domain": [
          0,
          0.98
         ],
         "matches": "x",
         "showticklabels": false
        },
        "xaxis3": {
         "anchor": "y3",
         "domain": [
          0,
          0.98
         ],
         "matches": "x",
         "showticklabels": false
        },
        "xaxis4": {
         "anchor": "y4",
         "domain": [
          0,
          0.98
         ],
         "matches": "x",
         "showticklabels": false
        },
        "xaxis5": {
         "anchor": "y5",
         "domain": [
          0,
          0.98
         ],
         "matches": "x",
         "showticklabels": false
        },
        "xaxis6": {
         "anchor": "y6",
         "domain": [
          0,
          0.98
         ],
         "matches": "x",
         "showticklabels": false
        },
        "xaxis7": {
         "anchor": "y7",
         "domain": [
          0,
          0.98
         ],
         "matches": "x",
         "showticklabels": false
        },
        "xaxis8": {
         "anchor": "y8",
         "domain": [
          0,
          0.98
         ],
         "matches": "x",
         "showticklabels": false
        },
        "xaxis9": {
         "anchor": "y9",
         "domain": [
          0,
          0.98
         ],
         "matches": "x",
         "showticklabels": false
        },
        "yaxis": {
         "anchor": "x",
         "domain": [
          0,
          0.06363636363636363
         ],
         "title": {
          "text": "User Rating"
         }
        },
        "yaxis10": {
         "anchor": "x10",
         "domain": [
          0.8427272727272725,
          0.9063636363636361
         ],
         "matches": "y",
         "title": {
          "text": "User Rating"
         }
        },
        "yaxis11": {
         "anchor": "x11",
         "domain": [
          0.9363636363636361,
          0.9999999999999997
         ],
         "matches": "y",
         "title": {
          "text": "User Rating"
         }
        },
        "yaxis2": {
         "anchor": "x2",
         "domain": [
          0.09363636363636363,
          0.15727272727272726
         ],
         "matches": "y",
         "title": {
          "text": "User Rating"
         }
        },
        "yaxis3": {
         "anchor": "x3",
         "domain": [
          0.18727272727272726,
          0.25090909090909086
         ],
         "matches": "y",
         "title": {
          "text": "User Rating"
         }
        },
        "yaxis4": {
         "anchor": "x4",
         "domain": [
          0.2809090909090909,
          0.3445454545454545
         ],
         "matches": "y",
         "title": {
          "text": "User Rating"
         }
        },
        "yaxis5": {
         "anchor": "x5",
         "domain": [
          0.3745454545454545,
          0.4381818181818181
         ],
         "matches": "y",
         "title": {
          "text": "User Rating"
         }
        },
        "yaxis6": {
         "anchor": "x6",
         "domain": [
          0.46818181818181814,
          0.5318181818181817
         ],
         "matches": "y",
         "title": {
          "text": "User Rating"
         }
        },
        "yaxis7": {
         "anchor": "x7",
         "domain": [
          0.5618181818181818,
          0.6254545454545454
         ],
         "matches": "y",
         "title": {
          "text": "User Rating"
         }
        },
        "yaxis8": {
         "anchor": "x8",
         "domain": [
          0.6554545454545453,
          0.7190909090909089
         ],
         "matches": "y",
         "title": {
          "text": "User Rating"
         }
        },
        "yaxis9": {
         "anchor": "x9",
         "domain": [
          0.7490909090909089,
          0.8127272727272725
         ],
         "matches": "y",
         "title": {
          "text": "User Rating"
         }
        }
       }
      }
     },
     "metadata": {}
    }
   ],
   "metadata": {}
  },
  {
   "cell_type": "code",
   "execution_count": 81,
   "source": [
    "fig.write_image('Price vs. User Rating.jpeg', scale=3)"
   ],
   "outputs": [],
   "metadata": {}
  },
  {
   "cell_type": "code",
   "execution_count": 87,
   "source": [
    "fig.write_html('Price vs. User Rating.html')"
   ],
   "outputs": [],
   "metadata": {}
  },
  {
   "cell_type": "code",
   "execution_count": null,
   "source": [],
   "outputs": [],
   "metadata": {}
  }
 ],
 "metadata": {
  "orig_nbformat": 4,
  "language_info": {
   "name": "python",
   "version": "3.9.0",
   "mimetype": "text/x-python",
   "codemirror_mode": {
    "name": "ipython",
    "version": 3
   },
   "pygments_lexer": "ipython3",
   "nbconvert_exporter": "python",
   "file_extension": ".py"
  },
  "kernelspec": {
   "name": "python3",
   "display_name": "Python 3.9.0 64-bit"
  },
  "interpreter": {
   "hash": "ac59ebe37160ed0dfa835113d9b8498d9f09ceb179beaac4002f036b9467c963"
  }
 },
 "nbformat": 4,
 "nbformat_minor": 2
}